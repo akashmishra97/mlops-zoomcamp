{
 "cells": [
  {
   "cell_type": "code",
   "execution_count": 1,
   "id": "b2bd82d7",
   "metadata": {},
   "outputs": [
    {
     "name": "stdout",
     "output_type": "stream",
     "text": [
      "Python 3.9.19\n"
     ]
    }
   ],
   "source": [
    "!python -V"
   ]
  },
  {
   "cell_type": "code",
   "execution_count": 2,
   "id": "41062d8a",
   "metadata": {},
   "outputs": [],
   "source": [
    "import pandas as pd"
   ]
  },
  {
   "cell_type": "code",
   "execution_count": 3,
   "id": "c984c564",
   "metadata": {},
   "outputs": [],
   "source": [
    "import pickle"
   ]
  },
  {
   "cell_type": "code",
   "execution_count": 4,
   "id": "4add538c",
   "metadata": {},
   "outputs": [],
   "source": [
    "import seaborn as sns\n",
    "import matplotlib.pyplot as plt"
   ]
  },
  {
   "cell_type": "code",
   "execution_count": 5,
   "id": "8b135c2b",
   "metadata": {},
   "outputs": [],
   "source": [
    "from sklearn.feature_extraction import DictVectorizer\n",
    "from sklearn.linear_model import LinearRegression\n",
    "from sklearn.linear_model import Lasso\n",
    "from sklearn.linear_model import Ridge\n",
    "\n",
    "from sklearn.metrics import mean_squared_error"
   ]
  },
  {
   "cell_type": "code",
   "execution_count": 6,
   "id": "1464985f",
   "metadata": {},
   "outputs": [
    {
     "name": "stderr",
     "output_type": "stream",
     "text": [
      "2024/05/30 22:11:27 INFO mlflow.tracking.fluent: Experiment with name 'nyc-taxi-experiment3' does not exist. Creating a new experiment.\n"
     ]
    },
    {
     "data": {
      "text/plain": [
       "<Experiment: artifact_location='/home/mlops/mlops-zoomcamp/02-experiment-tracking/mlruns/1', creation_time=1717107087030, experiment_id='1', last_update_time=1717107087030, lifecycle_stage='active', name='nyc-taxi-experiment3', tags={}>"
      ]
     },
     "execution_count": 6,
     "metadata": {},
     "output_type": "execute_result"
    }
   ],
   "source": [
    "import mlflow\n",
    "\n",
    "\n",
    "mlflow.set_tracking_uri(\"sqlite:///mlflow.db\")\n",
    "mlflow.set_experiment(\"nyc-taxi-experiment3\")"
   ]
  },
  {
   "cell_type": "code",
   "execution_count": 7,
   "id": "f9e6479e",
   "metadata": {},
   "outputs": [],
   "source": [
    "def read_dataframe(filename):\n",
    "    df = pd.read_parquet(filename)\n",
    "\n",
    "    df.tpep_dropoff_datetime = pd.to_datetime(df.tpep_dropoff_datetime)\n",
    "    df.tpep_pickup_datetime = pd.to_datetime(df.tpep_pickup_datetime)\n",
    "\n",
    "    df['duration'] = df.tpep_dropoff_datetime - df.tpep_pickup_datetime\n",
    "    df.duration = df.duration.apply(lambda td: td.total_seconds() / 60)\n",
    "\n",
    "    df = df[(df.duration >= 1) & (df.duration <= 60)]\n",
    "\n",
    "    categorical = ['PULocationID', 'DOLocationID']\n",
    "    df[categorical] = df[categorical].astype(str)\n",
    "    \n",
    "    return df"
   ]
  },
  {
   "cell_type": "code",
   "execution_count": 8,
   "id": "e2c765d5-ce34-4e72-adab-bc67501852a0",
   "metadata": {},
   "outputs": [
    {
     "name": "stdout",
     "output_type": "stream",
     "text": [
      "total 412\n",
      "-rw-rw-r-- 1 mlops mlops   3734 May 19 22:35 README.md\n",
      "drwxrwxr-x 2 mlops mlops   4096 May 23 04:59 data\n",
      "-rw-rw-r-- 1 mlops mlops 139394 May 30 04:48 duration-prediction.ipynb\n",
      "drwxrwxr-x 2 mlops mlops   4096 May 19 22:35 images\n",
      "-rw-rw-r-- 1 mlops mlops   1165 May 19 22:35 meta.json\n",
      "-rw-r--r-- 1 mlops mlops 217088 May 30 22:11 mlflow.db\n",
      "-rw-rw-r-- 1 mlops mlops   4676 May 19 22:35 mlflow_on_aws.md\n",
      "drwxrwxr-x 4 mlops mlops   4096 May 28 23:33 mlruns\n",
      "-rw-rw-r-- 1 mlops mlops  15480 May 19 22:35 model-registry.ipynb\n",
      "drwxrwxr-x 2 mlops mlops   4096 May 23 05:56 models\n",
      "-rw-rw-r-- 1 mlops mlops     77 May 19 22:35 requirements.txt\n",
      "drwxrwxr-x 2 mlops mlops   4096 May 19 22:35 running-mlflow-examples\n"
     ]
    }
   ],
   "source": [
    "!ls -l"
   ]
  },
  {
   "cell_type": "code",
   "execution_count": 9,
   "id": "8029eba0",
   "metadata": {},
   "outputs": [],
   "source": [
    "df_train = read_dataframe('./data/yellow_tripdata_2023-01.parquet')\n",
    "df_val = read_dataframe('./data/yellow_tripdata_2023-02.parquet')"
   ]
  },
  {
   "cell_type": "code",
   "execution_count": 10,
   "id": "f6f2f0eb",
   "metadata": {},
   "outputs": [
    {
     "data": {
      "text/plain": [
       "(3009173, 2855951)"
      ]
     },
     "execution_count": 10,
     "metadata": {},
     "output_type": "execute_result"
    }
   ],
   "source": [
    "len(df_train), len(df_val)"
   ]
  },
  {
   "cell_type": "code",
   "execution_count": 11,
   "id": "951d51ef",
   "metadata": {},
   "outputs": [],
   "source": [
    "df_train['PU_DO'] = df_train['PULocationID'] + '_' + df_train['DOLocationID']\n",
    "df_val['PU_DO'] = df_val['PULocationID'] + '_' + df_val['DOLocationID']"
   ]
  },
  {
   "cell_type": "code",
   "execution_count": 12,
   "id": "c5cbfc25",
   "metadata": {},
   "outputs": [],
   "source": [
    "categorical = ['PU_DO'] #'PULocationID', 'DOLocationID']\n",
    "numerical = ['trip_distance']\n",
    "\n",
    "dv = DictVectorizer()\n",
    "\n",
    "train_dicts = df_train[categorical + numerical].to_dict(orient='records')\n",
    "X_train = dv.fit_transform(train_dicts)\n",
    "\n",
    "val_dicts = df_val[categorical + numerical].to_dict(orient='records')\n",
    "X_val = dv.transform(val_dicts)"
   ]
  },
  {
   "cell_type": "code",
   "execution_count": 13,
   "id": "1e9fb68b",
   "metadata": {},
   "outputs": [],
   "source": [
    "target = 'duration'\n",
    "y_train = df_train[target].values\n",
    "y_val = df_val[target].values"
   ]
  },
  {
   "cell_type": "code",
   "execution_count": 14,
   "id": "429e2394",
   "metadata": {},
   "outputs": [
    {
     "name": "stderr",
     "output_type": "stream",
     "text": [
      "/home/mlops/anaconda3/envs/exp-tracking-env/lib/python3.9/site-packages/sklearn/metrics/_regression.py:492: FutureWarning: 'squared' is deprecated in version 1.4 and will be removed in 1.6. To calculate the root mean squared error, use the function'root_mean_squared_error'.\n",
      "  warnings.warn(\n"
     ]
    },
    {
     "data": {
      "text/plain": [
       "5.247057977640596"
      ]
     },
     "execution_count": 14,
     "metadata": {},
     "output_type": "execute_result"
    }
   ],
   "source": [
    "lr = LinearRegression()\n",
    "lr.fit(X_train, y_train)\n",
    "\n",
    "y_pred = lr.predict(X_val)\n",
    "\n",
    "mean_squared_error(y_val, y_pred, squared=False)"
   ]
  },
  {
   "cell_type": "code",
   "execution_count": 17,
   "id": "22bf6f8b",
   "metadata": {},
   "outputs": [],
   "source": [
    "with open('models/lin_reg.bin', 'wb') as f_out:\n",
    "    pickle.dump((dv, lr), f_out)"
   ]
  },
  {
   "cell_type": "code",
   "execution_count": 18,
   "id": "a4999b94",
   "metadata": {},
   "outputs": [
    {
     "name": "stderr",
     "output_type": "stream",
     "text": [
      "/home/mlops/anaconda3/envs/exp-tracking-env/lib/python3.9/site-packages/sklearn/metrics/_regression.py:492: FutureWarning: 'squared' is deprecated in version 1.4 and will be removed in 1.6. To calculate the root mean squared error, use the function'root_mean_squared_error'.\n",
      "  warnings.warn(\n"
     ]
    }
   ],
   "source": [
    "with mlflow.start_run():\n",
    "\n",
    "    mlflow.set_tag(\"developer\", \"akash\")\n",
    "\n",
    "    mlflow.log_param(\"train-data-path\", \"./data/yellow_tripdata_2023-01.csv\")\n",
    "    mlflow.log_param(\"valid-data-path\", \"./data/yellow_tripdata_2023-02.csv\")\n",
    "\n",
    "    alpha = 0.1\n",
    "    mlflow.log_param(\"alpha\", alpha)\n",
    "    lr = Lasso(alpha)\n",
    "    lr.fit(X_train, y_train)\n",
    "\n",
    "    y_pred = lr.predict(X_val)\n",
    "    rmse = mean_squared_error(y_val, y_pred, squared=False)\n",
    "    mlflow.log_metric(\"rmse\", rmse)\n",
    "\n",
    "    mlflow.log_artifact(local_path=\"models/lin_reg.bin\", artifact_path=\"models_pickle\")"
   ]
  },
  {
   "cell_type": "code",
   "execution_count": null,
   "id": "47b0eb9b",
   "metadata": {},
   "outputs": [],
   "source": []
  },
  {
   "cell_type": "code",
   "execution_count": 19,
   "id": "5f56e97b",
   "metadata": {},
   "outputs": [],
   "source": [
    "import xgboost as xgb"
   ]
  },
  {
   "cell_type": "code",
   "execution_count": 20,
   "id": "907dc6a2",
   "metadata": {},
   "outputs": [],
   "source": [
    "from hyperopt import fmin, tpe, hp, STATUS_OK, Trials\n",
    "from hyperopt.pyll import scope"
   ]
  },
  {
   "cell_type": "code",
   "execution_count": 21,
   "id": "091ab328",
   "metadata": {},
   "outputs": [],
   "source": [
    "train = xgb.DMatrix(X_train, label=y_train)\n",
    "valid = xgb.DMatrix(X_val, label=y_val)"
   ]
  },
  {
   "cell_type": "code",
   "execution_count": 22,
   "id": "c2d84b26",
   "metadata": {},
   "outputs": [],
   "source": [
    "def objective(params):\n",
    "    with mlflow.start_run():\n",
    "        mlflow.set_tag(\"model\", \"xgboost\")\n",
    "        mlflow.log_params(params)\n",
    "        booster = xgb.train(\n",
    "            params=params,\n",
    "            dtrain=train,\n",
    "            num_boost_round=10,\n",
    "            evals=[(valid, 'validation')],\n",
    "            early_stopping_rounds=5\n",
    "        )\n",
    "        y_pred = booster.predict(valid)\n",
    "        rmse = mean_squared_error(y_val, y_pred, squared=False)\n",
    "        mlflow.log_metric(\"rmse\", rmse)\n",
    "\n",
    "    return {'loss': rmse, 'status': STATUS_OK}"
   ]
  },
  {
   "cell_type": "code",
   "execution_count": 23,
   "id": "6b1f77f5",
   "metadata": {},
   "outputs": [
    {
     "name": "stdout",
     "output_type": "stream",
     "text": [
      "  0%|                    | 0/50 [00:00<?, ?trial/s, best loss=?]"
     ]
    },
    {
     "name": "stderr",
     "output_type": "stream",
     "text": [
      "/home/mlops/anaconda3/envs/exp-tracking-env/lib/python3.9/site-packages/xgboost/core.py:160: UserWarning: [22:24:09] WARNING: /workspace/src/objective/regression_obj.cu:209: reg:linear is now deprecated in favor of reg:squarederror.\n",
      "  warnings.warn(smsg, UserWarning)\n",
      "\n"
     ]
    },
    {
     "name": "stdout",
     "output_type": "stream",
     "text": [
      "[0]\tvalidation-rmse:5.52307                                     \n",
      "[1]\tvalidation-rmse:5.14990                                     \n",
      "[2]\tvalidation-rmse:5.10660                                     \n",
      "[3]\tvalidation-rmse:5.08924                                     \n",
      "[4]\tvalidation-rmse:5.08169                                     \n",
      "[5]\tvalidation-rmse:5.07563                                     \n",
      "[6]\tvalidation-rmse:5.07041                                     \n",
      "[7]\tvalidation-rmse:5.06490                                     \n",
      "[8]\tvalidation-rmse:5.05518                                     \n",
      "[9]\tvalidation-rmse:5.05067                                     \n",
      "  2%| | 1/50 [00:14<11:41, 14.31s/trial, best loss: 5.0506676127"
     ]
    },
    {
     "name": "stderr",
     "output_type": "stream",
     "text": [
      "/home/mlops/anaconda3/envs/exp-tracking-env/lib/python3.9/site-packages/sklearn/metrics/_regression.py:492: FutureWarning: 'squared' is deprecated in version 1.4 and will be removed in 1.6. To calculate the root mean squared error, use the function'root_mean_squared_error'.\n",
      "  warnings.warn(\n",
      "\n",
      "/home/mlops/anaconda3/envs/exp-tracking-env/lib/python3.9/site-packages/xgboost/core.py:160: UserWarning: [22:24:23] WARNING: /workspace/src/objective/regression_obj.cu:209: reg:linear is now deprecated in favor of reg:squarederror.\n",
      "  warnings.warn(smsg, UserWarning)\n",
      "\n"
     ]
    },
    {
     "name": "stdout",
     "output_type": "stream",
     "text": [
      "[0]\tvalidation-rmse:9.42040                                     \n",
      "[1]\tvalidation-rmse:8.84809                                     \n",
      "[2]\tvalidation-rmse:8.34401                                     \n",
      "[3]\tvalidation-rmse:7.90139                                     \n",
      "[4]\tvalidation-rmse:7.51429                                     \n",
      "[5]\tvalidation-rmse:7.17739                                     \n",
      "[6]\tvalidation-rmse:6.88469                                     \n",
      "[7]\tvalidation-rmse:6.63151                                     \n",
      "[8]\tvalidation-rmse:6.41333                                     \n",
      "[9]\tvalidation-rmse:6.22577                                     \n",
      "  4%| | 2/50 [00:27<11:04, 13.85s/trial, best loss: 5.0506676127"
     ]
    },
    {
     "name": "stderr",
     "output_type": "stream",
     "text": [
      "/home/mlops/anaconda3/envs/exp-tracking-env/lib/python3.9/site-packages/sklearn/metrics/_regression.py:492: FutureWarning: 'squared' is deprecated in version 1.4 and will be removed in 1.6. To calculate the root mean squared error, use the function'root_mean_squared_error'.\n",
      "  warnings.warn(\n",
      "\n",
      "/home/mlops/anaconda3/envs/exp-tracking-env/lib/python3.9/site-packages/xgboost/core.py:160: UserWarning: [22:24:37] WARNING: /workspace/src/objective/regression_obj.cu:209: reg:linear is now deprecated in favor of reg:squarederror.\n",
      "  warnings.warn(smsg, UserWarning)\n",
      "\n"
     ]
    },
    {
     "name": "stdout",
     "output_type": "stream",
     "text": [
      "[0]\tvalidation-rmse:7.09902                                     \n",
      "[1]\tvalidation-rmse:5.83959                                     \n",
      "[2]\tvalidation-rmse:5.35616                                     \n",
      "[3]\tvalidation-rmse:5.16953                                     \n",
      "[4]\tvalidation-rmse:5.09330                                     \n",
      "[5]\tvalidation-rmse:5.05765                                     \n",
      "[6]\tvalidation-rmse:5.03902                                     \n",
      "[7]\tvalidation-rmse:5.02770                                     \n",
      "[8]\tvalidation-rmse:5.01856                                     \n",
      "[9]\tvalidation-rmse:5.01468                                     \n",
      "  6%| | 3/50 [00:43<11:36, 14.82s/trial, best loss: 5.0146789268"
     ]
    },
    {
     "name": "stderr",
     "output_type": "stream",
     "text": [
      "/home/mlops/anaconda3/envs/exp-tracking-env/lib/python3.9/site-packages/sklearn/metrics/_regression.py:492: FutureWarning: 'squared' is deprecated in version 1.4 and will be removed in 1.6. To calculate the root mean squared error, use the function'root_mean_squared_error'.\n",
      "  warnings.warn(\n",
      "\n",
      "/home/mlops/anaconda3/envs/exp-tracking-env/lib/python3.9/site-packages/xgboost/core.py:160: UserWarning: [22:24:53] WARNING: /workspace/src/objective/regression_obj.cu:209: reg:linear is now deprecated in favor of reg:squarederror.\n",
      "  warnings.warn(smsg, UserWarning)\n",
      "\n"
     ]
    },
    {
     "name": "stdout",
     "output_type": "stream",
     "text": [
      "[0]\tvalidation-rmse:5.13937                                     \n",
      "[1]\tvalidation-rmse:4.96450                                     \n",
      "[2]\tvalidation-rmse:4.94150                                     \n",
      "[3]\tvalidation-rmse:4.93253                                     \n",
      "[4]\tvalidation-rmse:4.92473                                     \n",
      "[5]\tvalidation-rmse:4.91714                                     \n",
      "[6]\tvalidation-rmse:4.91039                                     \n",
      "[7]\tvalidation-rmse:4.90081                                     \n",
      "[8]\tvalidation-rmse:4.89335                                     \n",
      "[9]\tvalidation-rmse:4.88767                                     \n",
      "  8%| | 4/50 [01:03<12:58, 16.92s/trial, best loss: 4.8876712748"
     ]
    },
    {
     "name": "stderr",
     "output_type": "stream",
     "text": [
      "/home/mlops/anaconda3/envs/exp-tracking-env/lib/python3.9/site-packages/sklearn/metrics/_regression.py:492: FutureWarning: 'squared' is deprecated in version 1.4 and will be removed in 1.6. To calculate the root mean squared error, use the function'root_mean_squared_error'.\n",
      "  warnings.warn(\n",
      "\n",
      "/home/mlops/anaconda3/envs/exp-tracking-env/lib/python3.9/site-packages/xgboost/core.py:160: UserWarning: [22:25:13] WARNING: /workspace/src/objective/regression_obj.cu:209: reg:linear is now deprecated in favor of reg:squarederror.\n",
      "  warnings.warn(smsg, UserWarning)\n",
      "\n"
     ]
    },
    {
     "name": "stdout",
     "output_type": "stream",
     "text": [
      "[0]\tvalidation-rmse:9.51342                                     \n",
      "[1]\tvalidation-rmse:9.01281                                     \n",
      "[2]\tvalidation-rmse:8.56139                                     \n",
      "[3]\tvalidation-rmse:8.15542                                     \n",
      "[4]\tvalidation-rmse:7.79110                                     \n",
      "[5]\tvalidation-rmse:7.46512                                     \n",
      "[6]\tvalidation-rmse:7.17405                                     \n",
      "[7]\tvalidation-rmse:6.91486                                     \n",
      "[8]\tvalidation-rmse:6.68458                                     \n",
      "[9]\tvalidation-rmse:6.48082                                     \n",
      " 10%| | 5/50 [01:25<14:02, 18.72s/trial, best loss: 4.8876712748"
     ]
    },
    {
     "name": "stderr",
     "output_type": "stream",
     "text": [
      "/home/mlops/anaconda3/envs/exp-tracking-env/lib/python3.9/site-packages/sklearn/metrics/_regression.py:492: FutureWarning: 'squared' is deprecated in version 1.4 and will be removed in 1.6. To calculate the root mean squared error, use the function'root_mean_squared_error'.\n",
      "  warnings.warn(\n",
      "\n",
      "/home/mlops/anaconda3/envs/exp-tracking-env/lib/python3.9/site-packages/xgboost/core.py:160: UserWarning: [22:25:35] WARNING: /workspace/src/objective/regression_obj.cu:209: reg:linear is now deprecated in favor of reg:squarederror.\n",
      "  warnings.warn(smsg, UserWarning)\n",
      "\n"
     ]
    },
    {
     "name": "stdout",
     "output_type": "stream",
     "text": [
      "[0]\tvalidation-rmse:7.46344                                     \n",
      "[1]\tvalidation-rmse:6.10603                                     \n",
      "[2]\tvalidation-rmse:5.44629                                     \n",
      "[3]\tvalidation-rmse:5.13605                                     \n",
      "[4]\tvalidation-rmse:4.98906                                     \n",
      "[5]\tvalidation-rmse:4.91227                                     \n",
      "[6]\tvalidation-rmse:4.86914                                     \n",
      "[7]\tvalidation-rmse:4.84342                                     \n",
      "[8]\tvalidation-rmse:4.82804                                     \n",
      "[9]\tvalidation-rmse:4.81351                                     \n",
      " 12%| | 6/50 [02:09<20:01, 27.31s/trial, best loss: 4.8135089463"
     ]
    },
    {
     "name": "stderr",
     "output_type": "stream",
     "text": [
      "/home/mlops/anaconda3/envs/exp-tracking-env/lib/python3.9/site-packages/sklearn/metrics/_regression.py:492: FutureWarning: 'squared' is deprecated in version 1.4 and will be removed in 1.6. To calculate the root mean squared error, use the function'root_mean_squared_error'.\n",
      "  warnings.warn(\n",
      "\n",
      "/home/mlops/anaconda3/envs/exp-tracking-env/lib/python3.9/site-packages/xgboost/core.py:160: UserWarning: [22:26:19] WARNING: /workspace/src/objective/regression_obj.cu:209: reg:linear is now deprecated in favor of reg:squarederror.\n",
      "  warnings.warn(smsg, UserWarning)\n",
      "\n"
     ]
    },
    {
     "name": "stdout",
     "output_type": "stream",
     "text": [
      "[0]\tvalidation-rmse:8.99236                                     \n",
      "[1]\tvalidation-rmse:8.12201                                     \n",
      "[2]\tvalidation-rmse:7.42371                                     \n",
      "[3]\tvalidation-rmse:6.86970                                     \n",
      "[4]\tvalidation-rmse:6.43395                                     \n",
      "[5]\tvalidation-rmse:6.09550                                     \n",
      "[6]\tvalidation-rmse:5.83395                                     \n",
      "[7]\tvalidation-rmse:5.63224                                     \n",
      "[8]\tvalidation-rmse:5.47741                                     \n",
      "[9]\tvalidation-rmse:5.35952                                     \n",
      " 14%|▏| 7/50 [02:33<18:40, 26.05s/trial, best loss: 4.8135089463"
     ]
    },
    {
     "name": "stderr",
     "output_type": "stream",
     "text": [
      "/home/mlops/anaconda3/envs/exp-tracking-env/lib/python3.9/site-packages/sklearn/metrics/_regression.py:492: FutureWarning: 'squared' is deprecated in version 1.4 and will be removed in 1.6. To calculate the root mean squared error, use the function'root_mean_squared_error'.\n",
      "  warnings.warn(\n",
      "\n",
      "/home/mlops/anaconda3/envs/exp-tracking-env/lib/python3.9/site-packages/xgboost/core.py:160: UserWarning: [22:26:42] WARNING: /workspace/src/objective/regression_obj.cu:209: reg:linear is now deprecated in favor of reg:squarederror.\n",
      "  warnings.warn(smsg, UserWarning)\n",
      "\n"
     ]
    },
    {
     "name": "stdout",
     "output_type": "stream",
     "text": [
      "[0]\tvalidation-rmse:6.54078                                     \n",
      "[1]\tvalidation-rmse:5.32758                                     \n",
      "[2]\tvalidation-rmse:4.95269                                     \n",
      "[3]\tvalidation-rmse:4.82741                                     \n",
      "[4]\tvalidation-rmse:4.77410                                     \n",
      "[5]\tvalidation-rmse:4.74942                                     \n",
      "[6]\tvalidation-rmse:4.73641                                     \n",
      "[7]\tvalidation-rmse:4.72629                                     \n",
      "[8]\tvalidation-rmse:4.72207                                     \n",
      "[9]\tvalidation-rmse:4.71914                                     \n",
      " 16%|▏| 8/50 [03:42<27:51, 39.81s/trial, best loss: 4.7191407369"
     ]
    },
    {
     "name": "stderr",
     "output_type": "stream",
     "text": [
      "/home/mlops/anaconda3/envs/exp-tracking-env/lib/python3.9/site-packages/sklearn/metrics/_regression.py:492: FutureWarning: 'squared' is deprecated in version 1.4 and will be removed in 1.6. To calculate the root mean squared error, use the function'root_mean_squared_error'.\n",
      "  warnings.warn(\n",
      "\n",
      "/home/mlops/anaconda3/envs/exp-tracking-env/lib/python3.9/site-packages/xgboost/core.py:160: UserWarning: [22:27:52] WARNING: /workspace/src/objective/regression_obj.cu:209: reg:linear is now deprecated in favor of reg:squarederror.\n",
      "  warnings.warn(smsg, UserWarning)\n",
      "\n"
     ]
    },
    {
     "name": "stdout",
     "output_type": "stream",
     "text": [
      "[0]\tvalidation-rmse:5.02415                                     \n",
      "[1]\tvalidation-rmse:5.00937                                     \n",
      "[2]\tvalidation-rmse:4.99653                                     \n",
      "[3]\tvalidation-rmse:4.98457                                     \n",
      "[4]\tvalidation-rmse:4.97287                                     \n",
      "[5]\tvalidation-rmse:4.96382                                     \n",
      "[6]\tvalidation-rmse:4.95442                                     \n",
      "[7]\tvalidation-rmse:4.94546                                     \n",
      "[8]\tvalidation-rmse:4.93657                                     \n",
      "[9]\tvalidation-rmse:4.92856                                     \n",
      " 18%|▏| 9/50 [04:01<22:49, 33.41s/trial, best loss: 4.7191407369"
     ]
    },
    {
     "name": "stderr",
     "output_type": "stream",
     "text": [
      "/home/mlops/anaconda3/envs/exp-tracking-env/lib/python3.9/site-packages/sklearn/metrics/_regression.py:492: FutureWarning: 'squared' is deprecated in version 1.4 and will be removed in 1.6. To calculate the root mean squared error, use the function'root_mean_squared_error'.\n",
      "  warnings.warn(\n",
      "\n",
      "/home/mlops/anaconda3/envs/exp-tracking-env/lib/python3.9/site-packages/xgboost/core.py:160: UserWarning: [22:28:11] WARNING: /workspace/src/objective/regression_obj.cu:209: reg:linear is now deprecated in favor of reg:squarederror.\n",
      "  warnings.warn(smsg, UserWarning)\n",
      "\n"
     ]
    },
    {
     "name": "stdout",
     "output_type": "stream",
     "text": [
      "[0]\tvalidation-rmse:7.48520                                     \n",
      "[1]\tvalidation-rmse:6.11384                                     \n",
      "[2]\tvalidation-rmse:5.43521                                     \n",
      "[3]\tvalidation-rmse:5.11041                                     \n",
      "[4]\tvalidation-rmse:4.95378                                     \n",
      "[5]\tvalidation-rmse:4.87249                                     \n",
      "[6]\tvalidation-rmse:4.82716                                     \n",
      "[7]\tvalidation-rmse:4.79859                                     \n",
      "[8]\tvalidation-rmse:4.78119                                     \n",
      "[9]\tvalidation-rmse:4.76740                                     \n",
      " 20%|▏| 10/50 [04:47<24:45, 37.14s/trial, best loss: 4.719140736"
     ]
    },
    {
     "name": "stderr",
     "output_type": "stream",
     "text": [
      "/home/mlops/anaconda3/envs/exp-tracking-env/lib/python3.9/site-packages/sklearn/metrics/_regression.py:492: FutureWarning: 'squared' is deprecated in version 1.4 and will be removed in 1.6. To calculate the root mean squared error, use the function'root_mean_squared_error'.\n",
      "  warnings.warn(\n",
      "\n",
      "/home/mlops/anaconda3/envs/exp-tracking-env/lib/python3.9/site-packages/xgboost/core.py:160: UserWarning: [22:28:56] WARNING: /workspace/src/objective/regression_obj.cu:209: reg:linear is now deprecated in favor of reg:squarederror.\n",
      "  warnings.warn(smsg, UserWarning)\n",
      "\n"
     ]
    },
    {
     "name": "stdout",
     "output_type": "stream",
     "text": [
      "[0]\tvalidation-rmse:9.41197                                     \n",
      "[1]\tvalidation-rmse:8.82935                                     \n",
      "[2]\tvalidation-rmse:8.31351                                     \n",
      "[3]\tvalidation-rmse:7.85794                                     \n",
      "[4]\tvalidation-rmse:7.45706                                     \n",
      "[5]\tvalidation-rmse:7.10510                                     \n",
      "[6]\tvalidation-rmse:6.79712                                     \n",
      "[7]\tvalidation-rmse:6.52881                                     \n",
      "[8]\tvalidation-rmse:6.29598                                     \n",
      "[9]\tvalidation-rmse:6.09425                                     \n",
      " 22%|▏| 11/50 [05:28<25:00, 38.47s/trial, best loss: 4.719140736"
     ]
    },
    {
     "name": "stderr",
     "output_type": "stream",
     "text": [
      "/home/mlops/anaconda3/envs/exp-tracking-env/lib/python3.9/site-packages/sklearn/metrics/_regression.py:492: FutureWarning: 'squared' is deprecated in version 1.4 and will be removed in 1.6. To calculate the root mean squared error, use the function'root_mean_squared_error'.\n",
      "  warnings.warn(\n",
      "\n",
      "/home/mlops/anaconda3/envs/exp-tracking-env/lib/python3.9/site-packages/xgboost/core.py:160: UserWarning: [22:29:38] WARNING: /workspace/src/objective/regression_obj.cu:209: reg:linear is now deprecated in favor of reg:squarederror.\n",
      "  warnings.warn(smsg, UserWarning)\n",
      "\n"
     ]
    },
    {
     "name": "stdout",
     "output_type": "stream",
     "text": [
      "[0]\tvalidation-rmse:9.29876                                     \n",
      "[1]\tvalidation-rmse:8.63019                                     \n",
      "[2]\tvalidation-rmse:8.05111                                     \n",
      "[3]\tvalidation-rmse:7.55200                                     \n",
      "[4]\tvalidation-rmse:7.12336                                     \n",
      "[5]\tvalidation-rmse:6.75767                                     \n",
      "[6]\tvalidation-rmse:6.44588                                     \n",
      "[7]\tvalidation-rmse:6.18237                                     \n",
      "[8]\tvalidation-rmse:5.95989                                     \n",
      "[9]\tvalidation-rmse:5.77233                                     \n",
      " 24%|▏| 12/50 [06:22<27:22, 43.22s/trial, best loss: 4.719140736"
     ]
    },
    {
     "name": "stderr",
     "output_type": "stream",
     "text": [
      "/home/mlops/anaconda3/envs/exp-tracking-env/lib/python3.9/site-packages/sklearn/metrics/_regression.py:492: FutureWarning: 'squared' is deprecated in version 1.4 and will be removed in 1.6. To calculate the root mean squared error, use the function'root_mean_squared_error'.\n",
      "  warnings.warn(\n",
      "\n",
      "/home/mlops/anaconda3/envs/exp-tracking-env/lib/python3.9/site-packages/xgboost/core.py:160: UserWarning: [22:30:32] WARNING: /workspace/src/objective/regression_obj.cu:209: reg:linear is now deprecated in favor of reg:squarederror.\n",
      "  warnings.warn(smsg, UserWarning)\n",
      "\n"
     ]
    },
    {
     "name": "stdout",
     "output_type": "stream",
     "text": [
      "[0]\tvalidation-rmse:9.57974                                     \n",
      "[1]\tvalidation-rmse:9.13201                                     \n",
      "[2]\tvalidation-rmse:8.72181                                     \n",
      "[3]\tvalidation-rmse:8.34663                                     \n",
      "[4]\tvalidation-rmse:8.00385                                     \n",
      "[5]\tvalidation-rmse:7.69171                                     \n",
      "[6]\tvalidation-rmse:7.40745                                     \n",
      "[7]\tvalidation-rmse:7.14962                                     \n",
      "[8]\tvalidation-rmse:6.91504                                     \n",
      "[9]\tvalidation-rmse:6.70300                                     \n",
      " 26%|▎| 13/50 [07:07<26:51, 43.56s/trial, best loss: 4.719140736"
     ]
    },
    {
     "name": "stderr",
     "output_type": "stream",
     "text": [
      "/home/mlops/anaconda3/envs/exp-tracking-env/lib/python3.9/site-packages/sklearn/metrics/_regression.py:492: FutureWarning: 'squared' is deprecated in version 1.4 and will be removed in 1.6. To calculate the root mean squared error, use the function'root_mean_squared_error'.\n",
      "  warnings.warn(\n",
      "\n",
      "/home/mlops/anaconda3/envs/exp-tracking-env/lib/python3.9/site-packages/xgboost/core.py:160: UserWarning: [22:31:16] WARNING: /workspace/src/objective/regression_obj.cu:209: reg:linear is now deprecated in favor of reg:squarederror.\n",
      "  warnings.warn(smsg, UserWarning)\n",
      "\n"
     ]
    },
    {
     "name": "stdout",
     "output_type": "stream",
     "text": [
      "[0]\tvalidation-rmse:9.59376                                     \n",
      "[1]\tvalidation-rmse:9.15875                                     \n",
      "[2]\tvalidation-rmse:8.76006                                     \n",
      "[3]\tvalidation-rmse:8.39525                                     \n",
      "[4]\tvalidation-rmse:8.06189                                     \n",
      "[5]\tvalidation-rmse:7.75803                                     \n",
      "[6]\tvalidation-rmse:7.48142                                     \n",
      "[7]\tvalidation-rmse:7.23010                                     \n",
      "[8]\tvalidation-rmse:7.00226                                     \n",
      "[9]\tvalidation-rmse:6.79571                                     \n",
      " 28%|▎| 14/50 [07:31<22:41, 37.81s/trial, best loss: 4.719140736"
     ]
    },
    {
     "name": "stderr",
     "output_type": "stream",
     "text": [
      "/home/mlops/anaconda3/envs/exp-tracking-env/lib/python3.9/site-packages/sklearn/metrics/_regression.py:492: FutureWarning: 'squared' is deprecated in version 1.4 and will be removed in 1.6. To calculate the root mean squared error, use the function'root_mean_squared_error'.\n",
      "  warnings.warn(\n",
      "\n",
      "/home/mlops/anaconda3/envs/exp-tracking-env/lib/python3.9/site-packages/xgboost/core.py:160: UserWarning: [22:31:41] WARNING: /workspace/src/objective/regression_obj.cu:209: reg:linear is now deprecated in favor of reg:squarederror.\n",
      "  warnings.warn(smsg, UserWarning)\n",
      "\n"
     ]
    },
    {
     "name": "stdout",
     "output_type": "stream",
     "text": [
      "[0]\tvalidation-rmse:9.32130                                     \n",
      "[1]\tvalidation-rmse:8.66979                                     \n",
      "[2]\tvalidation-rmse:8.10290                                     \n",
      "[3]\tvalidation-rmse:7.61227                                     \n",
      "[4]\tvalidation-rmse:7.18909                                     \n",
      "[5]\tvalidation-rmse:6.82579                                     \n",
      "[6]\tvalidation-rmse:6.51485                                     \n",
      "[7]\tvalidation-rmse:6.25000                                     \n",
      "[8]\tvalidation-rmse:6.02505                                     \n",
      "[9]\tvalidation-rmse:5.83525                                     \n",
      " 30%|▎| 15/50 [08:17<23:28, 40.25s/trial, best loss: 4.719140736"
     ]
    },
    {
     "name": "stderr",
     "output_type": "stream",
     "text": [
      "/home/mlops/anaconda3/envs/exp-tracking-env/lib/python3.9/site-packages/sklearn/metrics/_regression.py:492: FutureWarning: 'squared' is deprecated in version 1.4 and will be removed in 1.6. To calculate the root mean squared error, use the function'root_mean_squared_error'.\n",
      "  warnings.warn(\n",
      "\n",
      "/home/mlops/anaconda3/envs/exp-tracking-env/lib/python3.9/site-packages/xgboost/core.py:160: UserWarning: [22:32:27] WARNING: /workspace/src/objective/regression_obj.cu:209: reg:linear is now deprecated in favor of reg:squarederror.\n",
      "  warnings.warn(smsg, UserWarning)\n",
      "\n"
     ]
    },
    {
     "name": "stdout",
     "output_type": "stream",
     "text": [
      "[0]\tvalidation-rmse:9.36089                                     \n",
      "[1]\tvalidation-rmse:8.73839                                     \n",
      "[2]\tvalidation-rmse:8.19187                                     \n",
      "[3]\tvalidation-rmse:7.71398                                     \n",
      "[4]\tvalidation-rmse:7.29752                                     \n",
      "[5]\tvalidation-rmse:6.93584                                     \n",
      "[6]\tvalidation-rmse:6.62313                                     \n",
      "[7]\tvalidation-rmse:6.35386                                     \n",
      "[8]\tvalidation-rmse:6.12260                                     \n",
      "[9]\tvalidation-rmse:5.92392                                     \n",
      " 32%|▎| 16/50 [09:14<25:37, 45.22s/trial, best loss: 4.719140736"
     ]
    },
    {
     "name": "stderr",
     "output_type": "stream",
     "text": [
      "/home/mlops/anaconda3/envs/exp-tracking-env/lib/python3.9/site-packages/sklearn/metrics/_regression.py:492: FutureWarning: 'squared' is deprecated in version 1.4 and will be removed in 1.6. To calculate the root mean squared error, use the function'root_mean_squared_error'.\n",
      "  warnings.warn(\n",
      "\n",
      "/home/mlops/anaconda3/envs/exp-tracking-env/lib/python3.9/site-packages/xgboost/core.py:160: UserWarning: [22:33:24] WARNING: /workspace/src/objective/regression_obj.cu:209: reg:linear is now deprecated in favor of reg:squarederror.\n",
      "  warnings.warn(smsg, UserWarning)\n",
      "\n"
     ]
    },
    {
     "name": "stdout",
     "output_type": "stream",
     "text": [
      "[0]\tvalidation-rmse:7.91570                                     \n",
      "[1]\tvalidation-rmse:6.59515                                     \n",
      "[2]\tvalidation-rmse:5.82122                                     \n",
      "[3]\tvalidation-rmse:5.38474                                     \n",
      "[4]\tvalidation-rmse:5.14016                                     \n",
      "[5]\tvalidation-rmse:5.00282                                     \n",
      "[6]\tvalidation-rmse:4.92329                                     \n",
      "[7]\tvalidation-rmse:4.87393                                     \n",
      "[8]\tvalidation-rmse:4.84187                                     \n",
      "[9]\tvalidation-rmse:4.81895                                     \n",
      " 34%|▎| 17/50 [09:59<24:46, 45.04s/trial, best loss: 4.719140736"
     ]
    },
    {
     "name": "stderr",
     "output_type": "stream",
     "text": [
      "/home/mlops/anaconda3/envs/exp-tracking-env/lib/python3.9/site-packages/sklearn/metrics/_regression.py:492: FutureWarning: 'squared' is deprecated in version 1.4 and will be removed in 1.6. To calculate the root mean squared error, use the function'root_mean_squared_error'.\n",
      "  warnings.warn(\n",
      "\n",
      "/home/mlops/anaconda3/envs/exp-tracking-env/lib/python3.9/site-packages/xgboost/core.py:160: UserWarning: [22:34:08] WARNING: /workspace/src/objective/regression_obj.cu:209: reg:linear is now deprecated in favor of reg:squarederror.\n",
      "  warnings.warn(smsg, UserWarning)\n",
      "\n"
     ]
    },
    {
     "name": "stdout",
     "output_type": "stream",
     "text": [
      "[0]\tvalidation-rmse:9.23369                                     \n",
      "[1]\tvalidation-rmse:8.52708                                     \n",
      "[2]\tvalidation-rmse:7.93203                                     \n",
      "[3]\tvalidation-rmse:7.43404                                     \n",
      "[4]\tvalidation-rmse:7.01989                                     \n",
      "[5]\tvalidation-rmse:6.67784                                     \n",
      "[6]\tvalidation-rmse:6.39747                                     \n",
      "[7]\tvalidation-rmse:6.16848                                     \n",
      "[8]\tvalidation-rmse:5.98195                                     \n",
      "[9]\tvalidation-rmse:5.83046                                     \n",
      " 36%|▎| 18/50 [10:11<18:50, 35.33s/trial, best loss: 4.719140736"
     ]
    },
    {
     "name": "stderr",
     "output_type": "stream",
     "text": [
      "/home/mlops/anaconda3/envs/exp-tracking-env/lib/python3.9/site-packages/sklearn/metrics/_regression.py:492: FutureWarning: 'squared' is deprecated in version 1.4 and will be removed in 1.6. To calculate the root mean squared error, use the function'root_mean_squared_error'.\n",
      "  warnings.warn(\n",
      "\n",
      "/home/mlops/anaconda3/envs/exp-tracking-env/lib/python3.9/site-packages/xgboost/core.py:160: UserWarning: [22:34:21] WARNING: /workspace/src/objective/regression_obj.cu:209: reg:linear is now deprecated in favor of reg:squarederror.\n",
      "  warnings.warn(smsg, UserWarning)\n",
      "\n"
     ]
    },
    {
     "name": "stdout",
     "output_type": "stream",
     "text": [
      "[0]\tvalidation-rmse:9.37992                                     \n",
      "[1]\tvalidation-rmse:8.77145                                     \n",
      "[2]\tvalidation-rmse:8.23433                                     \n",
      "[3]\tvalidation-rmse:7.76182                                     \n",
      "[4]\tvalidation-rmse:7.34794                                     \n",
      "[5]\tvalidation-rmse:6.98635                                     \n",
      "[6]\tvalidation-rmse:6.67221                                     \n",
      "[7]\tvalidation-rmse:6.39899                                     \n",
      "[8]\tvalidation-rmse:6.16329                                     \n",
      "[9]\tvalidation-rmse:5.95971                                     \n",
      " 38%|▍| 19/50 [11:42<26:50, 51.95s/trial, best loss: 4.719140736"
     ]
    },
    {
     "name": "stderr",
     "output_type": "stream",
     "text": [
      "/home/mlops/anaconda3/envs/exp-tracking-env/lib/python3.9/site-packages/sklearn/metrics/_regression.py:492: FutureWarning: 'squared' is deprecated in version 1.4 and will be removed in 1.6. To calculate the root mean squared error, use the function'root_mean_squared_error'.\n",
      "  warnings.warn(\n",
      "\n",
      "/home/mlops/anaconda3/envs/exp-tracking-env/lib/python3.9/site-packages/xgboost/core.py:160: UserWarning: [22:35:52] WARNING: /workspace/src/objective/regression_obj.cu:209: reg:linear is now deprecated in favor of reg:squarederror.\n",
      "  warnings.warn(smsg, UserWarning)\n",
      "\n"
     ]
    },
    {
     "name": "stdout",
     "output_type": "stream",
     "text": [
      "[0]\tvalidation-rmse:6.97608                                     \n",
      "[1]\tvalidation-rmse:5.63068                                     \n",
      "[2]\tvalidation-rmse:5.09734                                     \n",
      "[3]\tvalidation-rmse:4.88924                                     \n",
      "[4]\tvalidation-rmse:4.79923                                     \n",
      "[5]\tvalidation-rmse:4.75705                                     \n",
      "[6]\tvalidation-rmse:4.73469                                     \n",
      "[7]\tvalidation-rmse:4.71927                                     \n",
      "[8]\tvalidation-rmse:4.70738                                     \n",
      "[9]\tvalidation-rmse:4.70043                                     \n",
      " 40%|▍| 20/50 [12:42<27:07, 54.26s/trial, best loss: 4.700434010"
     ]
    },
    {
     "name": "stderr",
     "output_type": "stream",
     "text": [
      "/home/mlops/anaconda3/envs/exp-tracking-env/lib/python3.9/site-packages/sklearn/metrics/_regression.py:492: FutureWarning: 'squared' is deprecated in version 1.4 and will be removed in 1.6. To calculate the root mean squared error, use the function'root_mean_squared_error'.\n",
      "  warnings.warn(\n",
      "\n",
      "/home/mlops/anaconda3/envs/exp-tracking-env/lib/python3.9/site-packages/xgboost/core.py:160: UserWarning: [22:36:51] WARNING: /workspace/src/objective/regression_obj.cu:209: reg:linear is now deprecated in favor of reg:squarederror.\n",
      "  warnings.warn(smsg, UserWarning)\n",
      "\n"
     ]
    },
    {
     "name": "stdout",
     "output_type": "stream",
     "text": [
      "[0]\tvalidation-rmse:6.12953                                     \n",
      "[1]\tvalidation-rmse:5.09636                                     \n",
      "[2]\tvalidation-rmse:4.84705                                     \n",
      "[3]\tvalidation-rmse:4.77261                                     \n",
      "[4]\tvalidation-rmse:4.74230                                     \n",
      "[5]\tvalidation-rmse:4.72866                                     \n",
      "[6]\tvalidation-rmse:4.72024                                     \n",
      "[7]\tvalidation-rmse:4.71687                                     \n",
      "[8]\tvalidation-rmse:4.71322                                     \n",
      "[9]\tvalidation-rmse:4.70974                                     \n",
      " 42%|▍| 21/50 [13:42<27:09, 56.18s/trial, best loss: 4.700434010"
     ]
    },
    {
     "name": "stderr",
     "output_type": "stream",
     "text": [
      "/home/mlops/anaconda3/envs/exp-tracking-env/lib/python3.9/site-packages/sklearn/metrics/_regression.py:492: FutureWarning: 'squared' is deprecated in version 1.4 and will be removed in 1.6. To calculate the root mean squared error, use the function'root_mean_squared_error'.\n",
      "  warnings.warn(\n",
      "\n",
      "/home/mlops/anaconda3/envs/exp-tracking-env/lib/python3.9/site-packages/xgboost/core.py:160: UserWarning: [22:37:52] WARNING: /workspace/src/objective/regression_obj.cu:209: reg:linear is now deprecated in favor of reg:squarederror.\n",
      "  warnings.warn(smsg, UserWarning)\n",
      "\n"
     ]
    },
    {
     "name": "stdout",
     "output_type": "stream",
     "text": [
      "[0]\tvalidation-rmse:5.81395                                     \n",
      "[1]\tvalidation-rmse:4.98442                                     \n",
      "[2]\tvalidation-rmse:4.82295                                     \n",
      "[3]\tvalidation-rmse:4.77653                                     \n",
      "[4]\tvalidation-rmse:4.75671                                     \n",
      "[5]\tvalidation-rmse:4.74535                                     \n",
      "[6]\tvalidation-rmse:4.74100                                     \n",
      "[7]\tvalidation-rmse:4.73733                                     \n",
      "[8]\tvalidation-rmse:4.73331                                     \n",
      "[9]\tvalidation-rmse:4.72976                                     \n",
      " 44%|▍| 22/50 [14:33<25:30, 54.67s/trial, best loss: 4.700434010"
     ]
    },
    {
     "name": "stderr",
     "output_type": "stream",
     "text": [
      "/home/mlops/anaconda3/envs/exp-tracking-env/lib/python3.9/site-packages/sklearn/metrics/_regression.py:492: FutureWarning: 'squared' is deprecated in version 1.4 and will be removed in 1.6. To calculate the root mean squared error, use the function'root_mean_squared_error'.\n",
      "  warnings.warn(\n",
      "\n",
      "/home/mlops/anaconda3/envs/exp-tracking-env/lib/python3.9/site-packages/xgboost/core.py:160: UserWarning: [22:38:43] WARNING: /workspace/src/objective/regression_obj.cu:209: reg:linear is now deprecated in favor of reg:squarederror.\n",
      "  warnings.warn(smsg, UserWarning)\n",
      "\n"
     ]
    },
    {
     "name": "stdout",
     "output_type": "stream",
     "text": [
      "[0]\tvalidation-rmse:8.75868                                     \n",
      "[1]\tvalidation-rmse:7.74331                                     \n",
      "[2]\tvalidation-rmse:6.96692                                     \n",
      "[3]\tvalidation-rmse:6.38140                                     \n",
      "[4]\tvalidation-rmse:5.94589                                     \n",
      "[5]\tvalidation-rmse:5.62480                                     \n",
      "[6]\tvalidation-rmse:5.39156                                     \n",
      "[7]\tvalidation-rmse:5.22138                                     \n",
      "[8]\tvalidation-rmse:5.09757                                     \n",
      "[9]\tvalidation-rmse:5.00833                                     \n",
      " 46%|▍| 23/50 [15:51<27:44, 61.66s/trial, best loss: 4.700434010"
     ]
    },
    {
     "name": "stderr",
     "output_type": "stream",
     "text": [
      "/home/mlops/anaconda3/envs/exp-tracking-env/lib/python3.9/site-packages/sklearn/metrics/_regression.py:492: FutureWarning: 'squared' is deprecated in version 1.4 and will be removed in 1.6. To calculate the root mean squared error, use the function'root_mean_squared_error'.\n",
      "  warnings.warn(\n",
      "\n",
      "/home/mlops/anaconda3/envs/exp-tracking-env/lib/python3.9/site-packages/xgboost/core.py:160: UserWarning: [22:40:01] WARNING: /workspace/src/objective/regression_obj.cu:209: reg:linear is now deprecated in favor of reg:squarederror.\n",
      "  warnings.warn(smsg, UserWarning)\n",
      "\n"
     ]
    },
    {
     "name": "stdout",
     "output_type": "stream",
     "text": [
      "[0]\tvalidation-rmse:8.27801                                     \n",
      "[1]\tvalidation-rmse:7.04948                                     \n",
      "[2]\tvalidation-rmse:6.23034                                     \n",
      "[3]\tvalidation-rmse:5.69770                                     \n",
      "[4]\tvalidation-rmse:5.35956                                     \n",
      "[5]\tvalidation-rmse:5.14676                                     \n",
      "[6]\tvalidation-rmse:5.01280                                     \n",
      "[7]\tvalidation-rmse:4.92609                                     \n",
      "[8]\tvalidation-rmse:4.86917                                     \n",
      "[9]\tvalidation-rmse:4.83055                                     \n",
      " 48%|▍| 24/50 [17:08<28:41, 66.22s/trial, best loss: 4.700434010"
     ]
    },
    {
     "name": "stderr",
     "output_type": "stream",
     "text": [
      "/home/mlops/anaconda3/envs/exp-tracking-env/lib/python3.9/site-packages/sklearn/metrics/_regression.py:492: FutureWarning: 'squared' is deprecated in version 1.4 and will be removed in 1.6. To calculate the root mean squared error, use the function'root_mean_squared_error'.\n",
      "  warnings.warn(\n",
      "\n",
      "/home/mlops/anaconda3/envs/exp-tracking-env/lib/python3.9/site-packages/xgboost/core.py:160: UserWarning: [22:41:18] WARNING: /workspace/src/objective/regression_obj.cu:209: reg:linear is now deprecated in favor of reg:squarederror.\n",
      "  warnings.warn(smsg, UserWarning)\n",
      "\n"
     ]
    },
    {
     "name": "stdout",
     "output_type": "stream",
     "text": [
      "[0]\tvalidation-rmse:6.03910                                     \n",
      "[1]\tvalidation-rmse:5.06043                                     \n",
      "[2]\tvalidation-rmse:4.83933                                     \n",
      "[3]\tvalidation-rmse:4.77248                                     \n",
      "[4]\tvalidation-rmse:4.74648                                     \n",
      "[5]\tvalidation-rmse:4.73427                                     \n",
      "[6]\tvalidation-rmse:4.72888                                     \n",
      "[7]\tvalidation-rmse:4.72387                                     \n",
      "[8]\tvalidation-rmse:4.71847                                     \n",
      "[9]\tvalidation-rmse:4.71554                                     \n",
      " 50%|▌| 25/50 [18:00<25:43, 61.73s/trial, best loss: 4.700434010"
     ]
    },
    {
     "name": "stderr",
     "output_type": "stream",
     "text": [
      "/home/mlops/anaconda3/envs/exp-tracking-env/lib/python3.9/site-packages/sklearn/metrics/_regression.py:492: FutureWarning: 'squared' is deprecated in version 1.4 and will be removed in 1.6. To calculate the root mean squared error, use the function'root_mean_squared_error'.\n",
      "  warnings.warn(\n",
      "\n",
      "/home/mlops/anaconda3/envs/exp-tracking-env/lib/python3.9/site-packages/xgboost/core.py:160: UserWarning: [22:42:09] WARNING: /workspace/src/objective/regression_obj.cu:209: reg:linear is now deprecated in favor of reg:squarederror.\n",
      "  warnings.warn(smsg, UserWarning)\n",
      "\n"
     ]
    },
    {
     "name": "stdout",
     "output_type": "stream",
     "text": [
      "[0]\tvalidation-rmse:8.31259                                     \n",
      "[1]\tvalidation-rmse:7.09334                                     \n",
      "[2]\tvalidation-rmse:6.26988                                     \n",
      "[3]\tvalidation-rmse:5.72764                                     \n",
      "[4]\tvalidation-rmse:5.37753                                     \n",
      "[5]\tvalidation-rmse:5.15305                                     \n",
      "[6]\tvalidation-rmse:5.01075                                     \n",
      "[7]\tvalidation-rmse:4.91775                                     \n",
      "[8]\tvalidation-rmse:4.85671                                     \n",
      "[9]\tvalidation-rmse:4.81491                                     \n",
      " 52%|▌| 26/50 [19:22<27:08, 67.87s/trial, best loss: 4.700434010"
     ]
    },
    {
     "name": "stderr",
     "output_type": "stream",
     "text": [
      "/home/mlops/anaconda3/envs/exp-tracking-env/lib/python3.9/site-packages/sklearn/metrics/_regression.py:492: FutureWarning: 'squared' is deprecated in version 1.4 and will be removed in 1.6. To calculate the root mean squared error, use the function'root_mean_squared_error'.\n",
      "  warnings.warn(\n",
      "\n",
      "/home/mlops/anaconda3/envs/exp-tracking-env/lib/python3.9/site-packages/xgboost/core.py:160: UserWarning: [22:43:31] WARNING: /workspace/src/objective/regression_obj.cu:209: reg:linear is now deprecated in favor of reg:squarederror.\n",
      "  warnings.warn(smsg, UserWarning)\n",
      "\n"
     ]
    },
    {
     "name": "stdout",
     "output_type": "stream",
     "text": [
      "[0]\tvalidation-rmse:5.62402                                     \n",
      "[1]\tvalidation-rmse:4.94606                                     \n",
      "[2]\tvalidation-rmse:4.82902                                     \n",
      "[3]\tvalidation-rmse:4.79653                                     \n",
      "[4]\tvalidation-rmse:4.78340                                     \n",
      "[5]\tvalidation-rmse:4.77233                                     \n",
      "[6]\tvalidation-rmse:4.76773                                     \n",
      "[7]\tvalidation-rmse:4.76280                                     \n",
      "[8]\tvalidation-rmse:4.75890                                     \n",
      "[9]\tvalidation-rmse:4.75516                                     \n",
      " 54%|▌| 27/50 [20:01<22:45, 59.39s/trial, best loss: 4.700434010"
     ]
    },
    {
     "name": "stderr",
     "output_type": "stream",
     "text": [
      "/home/mlops/anaconda3/envs/exp-tracking-env/lib/python3.9/site-packages/sklearn/metrics/_regression.py:492: FutureWarning: 'squared' is deprecated in version 1.4 and will be removed in 1.6. To calculate the root mean squared error, use the function'root_mean_squared_error'.\n",
      "  warnings.warn(\n",
      "\n",
      "/home/mlops/anaconda3/envs/exp-tracking-env/lib/python3.9/site-packages/xgboost/core.py:160: UserWarning: [22:44:11] WARNING: /workspace/src/objective/regression_obj.cu:209: reg:linear is now deprecated in favor of reg:squarederror.\n",
      "  warnings.warn(smsg, UserWarning)\n",
      "\n"
     ]
    },
    {
     "name": "stdout",
     "output_type": "stream",
     "text": [
      "[0]\tvalidation-rmse:6.59353                                     \n",
      "[1]\tvalidation-rmse:5.34910                                     \n",
      "[2]\tvalidation-rmse:4.94851                                     \n",
      "[3]\tvalidation-rmse:4.81275                                     \n",
      "[4]\tvalidation-rmse:4.75650                                     \n",
      "[5]\tvalidation-rmse:4.73302                                     \n",
      "[6]\tvalidation-rmse:4.71825                                     \n",
      "[7]\tvalidation-rmse:4.70746                                     \n",
      "[8]\tvalidation-rmse:4.70120                                     \n",
      "[9]\tvalidation-rmse:4.69798                                     \n",
      " 56%|▌| 28/50 [21:06<22:20, 60.95s/trial, best loss: 4.697981213"
     ]
    },
    {
     "name": "stderr",
     "output_type": "stream",
     "text": [
      "/home/mlops/anaconda3/envs/exp-tracking-env/lib/python3.9/site-packages/sklearn/metrics/_regression.py:492: FutureWarning: 'squared' is deprecated in version 1.4 and will be removed in 1.6. To calculate the root mean squared error, use the function'root_mean_squared_error'.\n",
      "  warnings.warn(\n",
      "\n",
      "/home/mlops/anaconda3/envs/exp-tracking-env/lib/python3.9/site-packages/xgboost/core.py:160: UserWarning: [22:45:16] WARNING: /workspace/src/objective/regression_obj.cu:209: reg:linear is now deprecated in favor of reg:squarederror.\n",
      "  warnings.warn(smsg, UserWarning)\n",
      "\n"
     ]
    },
    {
     "name": "stdout",
     "output_type": "stream",
     "text": [
      "[0]\tvalidation-rmse:7.05058                                     \n",
      "[1]\tvalidation-rmse:5.69557                                     \n",
      "[2]\tvalidation-rmse:5.14373                                     \n",
      "[3]\tvalidation-rmse:4.92053                                     \n",
      "[4]\tvalidation-rmse:4.82413                                     \n",
      "[5]\tvalidation-rmse:4.77606                                     \n",
      "[6]\tvalidation-rmse:4.75074                                     \n",
      "[7]\tvalidation-rmse:4.73504                                     \n",
      "[8]\tvalidation-rmse:4.72433                                     \n",
      "[9]\tvalidation-rmse:4.71419                                     \n",
      " 58%|▌| 29/50 [22:12<21:54, 62.62s/trial, best loss: 4.697981213"
     ]
    },
    {
     "name": "stderr",
     "output_type": "stream",
     "text": [
      "/home/mlops/anaconda3/envs/exp-tracking-env/lib/python3.9/site-packages/sklearn/metrics/_regression.py:492: FutureWarning: 'squared' is deprecated in version 1.4 and will be removed in 1.6. To calculate the root mean squared error, use the function'root_mean_squared_error'.\n",
      "  warnings.warn(\n",
      "\n",
      "/home/mlops/anaconda3/envs/exp-tracking-env/lib/python3.9/site-packages/xgboost/core.py:160: UserWarning: [22:46:22] WARNING: /workspace/src/objective/regression_obj.cu:209: reg:linear is now deprecated in favor of reg:squarederror.\n",
      "  warnings.warn(smsg, UserWarning)\n",
      "\n"
     ]
    },
    {
     "name": "stdout",
     "output_type": "stream",
     "text": [
      "[0]\tvalidation-rmse:5.20290                                     \n",
      "[1]\tvalidation-rmse:4.85142                                     \n",
      "[2]\tvalidation-rmse:4.80663                                     \n",
      "[3]\tvalidation-rmse:4.78858                                     \n",
      "[4]\tvalidation-rmse:4.78204                                     \n",
      "[5]\tvalidation-rmse:4.77577                                     \n",
      "[6]\tvalidation-rmse:4.77001                                     \n",
      "[7]\tvalidation-rmse:4.76459                                     \n",
      "[8]\tvalidation-rmse:4.75918                                     \n",
      "[9]\tvalidation-rmse:4.75411                                     \n",
      " 60%|▌| 30/50 [22:49<18:14, 54.74s/trial, best loss: 4.697981213"
     ]
    },
    {
     "name": "stderr",
     "output_type": "stream",
     "text": [
      "/home/mlops/anaconda3/envs/exp-tracking-env/lib/python3.9/site-packages/sklearn/metrics/_regression.py:492: FutureWarning: 'squared' is deprecated in version 1.4 and will be removed in 1.6. To calculate the root mean squared error, use the function'root_mean_squared_error'.\n",
      "  warnings.warn(\n",
      "\n",
      "/home/mlops/anaconda3/envs/exp-tracking-env/lib/python3.9/site-packages/xgboost/core.py:160: UserWarning: [22:46:58] WARNING: /workspace/src/objective/regression_obj.cu:209: reg:linear is now deprecated in favor of reg:squarederror.\n",
      "  warnings.warn(smsg, UserWarning)\n",
      "\n"
     ]
    },
    {
     "name": "stdout",
     "output_type": "stream",
     "text": [
      "[0]\tvalidation-rmse:7.95147                                     \n",
      "[1]\tvalidation-rmse:6.64883                                     \n",
      "[2]\tvalidation-rmse:5.88113                                     \n",
      "[3]\tvalidation-rmse:5.44504                                     \n",
      "[4]\tvalidation-rmse:5.19980                                     \n",
      "[5]\tvalidation-rmse:5.06169                                     \n",
      "[6]\tvalidation-rmse:4.97904                                     \n",
      "[7]\tvalidation-rmse:4.92957                                     \n",
      "[8]\tvalidation-rmse:4.89685                                     \n",
      "[9]\tvalidation-rmse:4.87497                                     \n",
      " 62%|▌| 31/50 [23:25<15:36, 49.29s/trial, best loss: 4.697981213"
     ]
    },
    {
     "name": "stderr",
     "output_type": "stream",
     "text": [
      "/home/mlops/anaconda3/envs/exp-tracking-env/lib/python3.9/site-packages/sklearn/metrics/_regression.py:492: FutureWarning: 'squared' is deprecated in version 1.4 and will be removed in 1.6. To calculate the root mean squared error, use the function'root_mean_squared_error'.\n",
      "  warnings.warn(\n",
      "\n",
      "/home/mlops/anaconda3/envs/exp-tracking-env/lib/python3.9/site-packages/xgboost/core.py:160: UserWarning: [22:47:35] WARNING: /workspace/src/objective/regression_obj.cu:209: reg:linear is now deprecated in favor of reg:squarederror.\n",
      "  warnings.warn(smsg, UserWarning)\n",
      "\n"
     ]
    },
    {
     "name": "stdout",
     "output_type": "stream",
     "text": [
      "[0]\tvalidation-rmse:8.67333                                     \n",
      "[1]\tvalidation-rmse:7.61205                                     \n",
      "[2]\tvalidation-rmse:6.81691                                     \n",
      "[3]\tvalidation-rmse:6.23089                                     \n",
      "[4]\tvalidation-rmse:5.80560                                     \n",
      "[5]\tvalidation-rmse:5.49909                                     \n",
      "[6]\tvalidation-rmse:5.28234                                     \n",
      "[7]\tvalidation-rmse:5.12834                                     \n",
      "[8]\tvalidation-rmse:5.01865                                     \n",
      "[9]\tvalidation-rmse:4.94035                                     \n",
      " 64%|▋| 32/50 [24:37<16:45, 55.88s/trial, best loss: 4.697981213"
     ]
    },
    {
     "name": "stderr",
     "output_type": "stream",
     "text": [
      "/home/mlops/anaconda3/envs/exp-tracking-env/lib/python3.9/site-packages/sklearn/metrics/_regression.py:492: FutureWarning: 'squared' is deprecated in version 1.4 and will be removed in 1.6. To calculate the root mean squared error, use the function'root_mean_squared_error'.\n",
      "  warnings.warn(\n",
      "\n",
      "/home/mlops/anaconda3/envs/exp-tracking-env/lib/python3.9/site-packages/xgboost/core.py:160: UserWarning: [22:48:46] WARNING: /workspace/src/objective/regression_obj.cu:209: reg:linear is now deprecated in favor of reg:squarederror.\n",
      "  warnings.warn(smsg, UserWarning)\n",
      "\n"
     ]
    },
    {
     "name": "stdout",
     "output_type": "stream",
     "text": [
      "[0]\tvalidation-rmse:6.65049                                     \n",
      "[1]\tvalidation-rmse:5.39202                                     \n",
      "[2]\tvalidation-rmse:4.97465                                     \n",
      "[3]\tvalidation-rmse:4.82968                                     \n",
      "[4]\tvalidation-rmse:4.76888                                     \n",
      "[5]\tvalidation-rmse:4.73997                                     \n",
      "[6]\tvalidation-rmse:4.72351                                     \n",
      "[7]\tvalidation-rmse:4.71052                                     \n",
      "[8]\tvalidation-rmse:4.70511                                     \n",
      "[9]\tvalidation-rmse:4.69972                                     \n",
      " 66%|▋| 33/50 [25:35<16:04, 56.75s/trial, best loss: 4.697981213"
     ]
    },
    {
     "name": "stderr",
     "output_type": "stream",
     "text": [
      "/home/mlops/anaconda3/envs/exp-tracking-env/lib/python3.9/site-packages/sklearn/metrics/_regression.py:492: FutureWarning: 'squared' is deprecated in version 1.4 and will be removed in 1.6. To calculate the root mean squared error, use the function'root_mean_squared_error'.\n",
      "  warnings.warn(\n",
      "\n",
      "/home/mlops/anaconda3/envs/exp-tracking-env/lib/python3.9/site-packages/xgboost/core.py:160: UserWarning: [22:49:45] WARNING: /workspace/src/objective/regression_obj.cu:209: reg:linear is now deprecated in favor of reg:squarederror.\n",
      "  warnings.warn(smsg, UserWarning)\n",
      "\n"
     ]
    },
    {
     "name": "stdout",
     "output_type": "stream",
     "text": [
      "[0]\tvalidation-rmse:6.48718                                     \n",
      "[1]\tvalidation-rmse:5.31519                                     \n",
      "[2]\tvalidation-rmse:4.97157                                     \n",
      "[3]\tvalidation-rmse:4.85871                                     \n",
      "[4]\tvalidation-rmse:4.81351                                     \n",
      "[5]\tvalidation-rmse:4.78776                                     \n",
      "[6]\tvalidation-rmse:4.77339                                     \n",
      "[7]\tvalidation-rmse:4.76376                                     \n",
      "[8]\tvalidation-rmse:4.76005                                     \n",
      "[9]\tvalidation-rmse:4.75597                                     \n",
      " 68%|▋| 34/50 [26:17<13:57, 52.32s/trial, best loss: 4.697981213"
     ]
    },
    {
     "name": "stderr",
     "output_type": "stream",
     "text": [
      "/home/mlops/anaconda3/envs/exp-tracking-env/lib/python3.9/site-packages/sklearn/metrics/_regression.py:492: FutureWarning: 'squared' is deprecated in version 1.4 and will be removed in 1.6. To calculate the root mean squared error, use the function'root_mean_squared_error'.\n",
      "  warnings.warn(\n",
      "\n",
      "/home/mlops/anaconda3/envs/exp-tracking-env/lib/python3.9/site-packages/xgboost/core.py:160: UserWarning: [22:50:27] WARNING: /workspace/src/objective/regression_obj.cu:209: reg:linear is now deprecated in favor of reg:squarederror.\n",
      "  warnings.warn(smsg, UserWarning)\n",
      "\n"
     ]
    },
    {
     "name": "stdout",
     "output_type": "stream",
     "text": [
      "[0]\tvalidation-rmse:5.04644                                     \n",
      "[1]\tvalidation-rmse:4.93074                                     \n",
      "[2]\tvalidation-rmse:4.90885                                     \n",
      "[3]\tvalidation-rmse:4.90003                                     \n",
      "[4]\tvalidation-rmse:4.89145                                     \n",
      "[5]\tvalidation-rmse:4.88425                                     \n",
      "[6]\tvalidation-rmse:4.87747                                     \n",
      "[7]\tvalidation-rmse:4.87125                                     \n",
      "[8]\tvalidation-rmse:4.86509                                     \n",
      "[9]\tvalidation-rmse:4.85936                                     \n",
      " 70%|▋| 35/50 [26:45<11:12, 44.85s/trial, best loss: 4.697981213"
     ]
    },
    {
     "name": "stderr",
     "output_type": "stream",
     "text": [
      "/home/mlops/anaconda3/envs/exp-tracking-env/lib/python3.9/site-packages/sklearn/metrics/_regression.py:492: FutureWarning: 'squared' is deprecated in version 1.4 and will be removed in 1.6. To calculate the root mean squared error, use the function'root_mean_squared_error'.\n",
      "  warnings.warn(\n",
      "\n",
      "/home/mlops/anaconda3/envs/exp-tracking-env/lib/python3.9/site-packages/xgboost/core.py:160: UserWarning: [22:50:54] WARNING: /workspace/src/objective/regression_obj.cu:209: reg:linear is now deprecated in favor of reg:squarederror.\n",
      "  warnings.warn(smsg, UserWarning)\n",
      "\n"
     ]
    },
    {
     "name": "stdout",
     "output_type": "stream",
     "text": [
      "[0]\tvalidation-rmse:7.97931                                     \n",
      "[1]\tvalidation-rmse:6.66082                                     \n",
      "[2]\tvalidation-rmse:5.86269                                     \n",
      "[3]\tvalidation-rmse:5.39498                                     \n",
      "[4]\tvalidation-rmse:5.12710                                     \n",
      "[5]\tvalidation-rmse:4.97168                                     \n",
      "[6]\tvalidation-rmse:4.88131                                     \n",
      "[7]\tvalidation-rmse:4.82510                                     \n",
      "[8]\tvalidation-rmse:4.78847                                     \n",
      "[9]\tvalidation-rmse:4.76390                                     \n",
      " 72%|▋| 36/50 [27:52<12:00, 51.49s/trial, best loss: 4.697981213"
     ]
    },
    {
     "name": "stderr",
     "output_type": "stream",
     "text": [
      "/home/mlops/anaconda3/envs/exp-tracking-env/lib/python3.9/site-packages/sklearn/metrics/_regression.py:492: FutureWarning: 'squared' is deprecated in version 1.4 and will be removed in 1.6. To calculate the root mean squared error, use the function'root_mean_squared_error'.\n",
      "  warnings.warn(\n",
      "\n",
      "/home/mlops/anaconda3/envs/exp-tracking-env/lib/python3.9/site-packages/xgboost/core.py:160: UserWarning: [22:52:01] WARNING: /workspace/src/objective/regression_obj.cu:209: reg:linear is now deprecated in favor of reg:squarederror.\n",
      "  warnings.warn(smsg, UserWarning)\n",
      "\n"
     ]
    },
    {
     "name": "stdout",
     "output_type": "stream",
     "text": [
      "[0]\tvalidation-rmse:7.42806                                     \n",
      "[1]\tvalidation-rmse:6.04989                                     \n",
      "[2]\tvalidation-rmse:5.37969                                     \n",
      "[3]\tvalidation-rmse:5.06474                                     \n",
      "[4]\tvalidation-rmse:4.91637                                     \n",
      "[5]\tvalidation-rmse:4.83850                                     \n",
      "[6]\tvalidation-rmse:4.79536                                     \n",
      "[7]\tvalidation-rmse:4.76914                                     \n",
      "[8]\tvalidation-rmse:4.75333                                     \n",
      "[9]\tvalidation-rmse:4.74121                                     \n",
      " 74%|▋| 37/50 [28:49<11:30, 53.11s/trial, best loss: 4.697981213"
     ]
    },
    {
     "name": "stderr",
     "output_type": "stream",
     "text": [
      "/home/mlops/anaconda3/envs/exp-tracking-env/lib/python3.9/site-packages/sklearn/metrics/_regression.py:492: FutureWarning: 'squared' is deprecated in version 1.4 and will be removed in 1.6. To calculate the root mean squared error, use the function'root_mean_squared_error'.\n",
      "  warnings.warn(\n",
      "\n",
      "/home/mlops/anaconda3/envs/exp-tracking-env/lib/python3.9/site-packages/xgboost/core.py:160: UserWarning: [22:52:58] WARNING: /workspace/src/objective/regression_obj.cu:209: reg:linear is now deprecated in favor of reg:squarederror.\n",
      "  warnings.warn(smsg, UserWarning)\n",
      "\n"
     ]
    },
    {
     "name": "stdout",
     "output_type": "stream",
     "text": [
      "[0]\tvalidation-rmse:5.44134                                     \n",
      "[1]\tvalidation-rmse:4.90106                                     \n",
      "[2]\tvalidation-rmse:4.81466                                     \n",
      "[3]\tvalidation-rmse:4.78820                                     \n",
      "[4]\tvalidation-rmse:4.77450                                     \n",
      "[5]\tvalidation-rmse:4.76912                                     \n",
      "[6]\tvalidation-rmse:4.76260                                     \n",
      "[7]\tvalidation-rmse:4.75728                                     \n",
      "[8]\tvalidation-rmse:4.75236                                     \n",
      "[9]\tvalidation-rmse:4.74707                                     \n",
      " 76%|▊| 38/50 [29:27<09:43, 48.59s/trial, best loss: 4.697981213"
     ]
    },
    {
     "name": "stderr",
     "output_type": "stream",
     "text": [
      "/home/mlops/anaconda3/envs/exp-tracking-env/lib/python3.9/site-packages/sklearn/metrics/_regression.py:492: FutureWarning: 'squared' is deprecated in version 1.4 and will be removed in 1.6. To calculate the root mean squared error, use the function'root_mean_squared_error'.\n",
      "  warnings.warn(\n",
      "\n",
      "/home/mlops/anaconda3/envs/exp-tracking-env/lib/python3.9/site-packages/xgboost/core.py:160: UserWarning: [22:53:36] WARNING: /workspace/src/objective/regression_obj.cu:209: reg:linear is now deprecated in favor of reg:squarederror.\n",
      "  warnings.warn(smsg, UserWarning)\n",
      "\n"
     ]
    },
    {
     "name": "stdout",
     "output_type": "stream",
     "text": [
      "[0]\tvalidation-rmse:6.54451                                     \n",
      "[1]\tvalidation-rmse:5.32228                                     \n",
      "[2]\tvalidation-rmse:4.94071                                     \n",
      "[3]\tvalidation-rmse:4.81319                                     \n",
      "[4]\tvalidation-rmse:4.75991                                     \n",
      "[5]\tvalidation-rmse:4.73472                                     \n",
      "[6]\tvalidation-rmse:4.71822                                     \n",
      "[7]\tvalidation-rmse:4.70741                                     \n",
      "[8]\tvalidation-rmse:4.70018                                     \n",
      "[9]\tvalidation-rmse:4.69657                                     \n",
      " 78%|▊| 39/50 [30:25<09:26, 51.50s/trial, best loss: 4.696573500"
     ]
    },
    {
     "name": "stderr",
     "output_type": "stream",
     "text": [
      "/home/mlops/anaconda3/envs/exp-tracking-env/lib/python3.9/site-packages/sklearn/metrics/_regression.py:492: FutureWarning: 'squared' is deprecated in version 1.4 and will be removed in 1.6. To calculate the root mean squared error, use the function'root_mean_squared_error'.\n",
      "  warnings.warn(\n",
      "\n",
      "/home/mlops/anaconda3/envs/exp-tracking-env/lib/python3.9/site-packages/xgboost/core.py:160: UserWarning: [22:54:35] WARNING: /workspace/src/objective/regression_obj.cu:209: reg:linear is now deprecated in favor of reg:squarederror.\n",
      "  warnings.warn(smsg, UserWarning)\n",
      "\n"
     ]
    },
    {
     "name": "stdout",
     "output_type": "stream",
     "text": [
      "[0]\tvalidation-rmse:7.67340                                     \n",
      "[1]\tvalidation-rmse:6.34019                                     \n",
      "[2]\tvalidation-rmse:5.64109                                     \n",
      "[3]\tvalidation-rmse:5.28871                                     \n",
      "[4]\tvalidation-rmse:5.10965                                     \n",
      "[5]\tvalidation-rmse:5.01415                                     \n",
      "[6]\tvalidation-rmse:4.96255                                     \n",
      "[7]\tvalidation-rmse:4.93291                                     \n",
      "[8]\tvalidation-rmse:4.91221                                     \n",
      "[9]\tvalidation-rmse:4.89863                                     \n",
      " 80%|▊| 40/50 [30:52<07:21, 44.12s/trial, best loss: 4.696573500"
     ]
    },
    {
     "name": "stderr",
     "output_type": "stream",
     "text": [
      "/home/mlops/anaconda3/envs/exp-tracking-env/lib/python3.9/site-packages/sklearn/metrics/_regression.py:492: FutureWarning: 'squared' is deprecated in version 1.4 and will be removed in 1.6. To calculate the root mean squared error, use the function'root_mean_squared_error'.\n",
      "  warnings.warn(\n",
      "\n",
      "/home/mlops/anaconda3/envs/exp-tracking-env/lib/python3.9/site-packages/xgboost/core.py:160: UserWarning: [22:55:02] WARNING: /workspace/src/objective/regression_obj.cu:209: reg:linear is now deprecated in favor of reg:squarederror.\n",
      "  warnings.warn(smsg, UserWarning)\n",
      "\n"
     ]
    },
    {
     "name": "stdout",
     "output_type": "stream",
     "text": [
      "[0]\tvalidation-rmse:9.11379                                     \n",
      "[1]\tvalidation-rmse:8.32178                                     \n",
      "[2]\tvalidation-rmse:7.67034                                     \n",
      "[3]\tvalidation-rmse:7.13768                                     \n",
      "[4]\tvalidation-rmse:6.70671                                     \n",
      "[5]\tvalidation-rmse:6.35948                                     \n",
      "[6]\tvalidation-rmse:6.08219                                     \n",
      "[7]\tvalidation-rmse:5.86230                                     \n",
      "[8]\tvalidation-rmse:5.68762                                     \n",
      "[9]\tvalidation-rmse:5.55018                                     \n",
      " 82%|▊| 41/50 [31:10<05:26, 36.26s/trial, best loss: 4.696573500"
     ]
    },
    {
     "name": "stderr",
     "output_type": "stream",
     "text": [
      "/home/mlops/anaconda3/envs/exp-tracking-env/lib/python3.9/site-packages/sklearn/metrics/_regression.py:492: FutureWarning: 'squared' is deprecated in version 1.4 and will be removed in 1.6. To calculate the root mean squared error, use the function'root_mean_squared_error'.\n",
      "  warnings.warn(\n",
      "\n",
      "/home/mlops/anaconda3/envs/exp-tracking-env/lib/python3.9/site-packages/xgboost/core.py:160: UserWarning: [22:55:19] WARNING: /workspace/src/objective/regression_obj.cu:209: reg:linear is now deprecated in favor of reg:squarederror.\n",
      "  warnings.warn(smsg, UserWarning)\n",
      "\n"
     ]
    },
    {
     "name": "stdout",
     "output_type": "stream",
     "text": [
      "[0]\tvalidation-rmse:7.16215                                     \n",
      "[1]\tvalidation-rmse:5.81314                                     \n",
      "[2]\tvalidation-rmse:5.24260                                     \n",
      "[3]\tvalidation-rmse:5.00448                                     \n",
      "[4]\tvalidation-rmse:4.89736                                     \n",
      "[5]\tvalidation-rmse:4.84500                                     \n",
      "[6]\tvalidation-rmse:4.81700                                     \n",
      "[7]\tvalidation-rmse:4.79922                                     \n",
      "[8]\tvalidation-rmse:4.78586                                     \n",
      "[9]\tvalidation-rmse:4.77794                                     \n",
      " 84%|▊| 42/50 [31:57<05:17, 39.64s/trial, best loss: 4.696573500"
     ]
    },
    {
     "name": "stderr",
     "output_type": "stream",
     "text": [
      "/home/mlops/anaconda3/envs/exp-tracking-env/lib/python3.9/site-packages/sklearn/metrics/_regression.py:492: FutureWarning: 'squared' is deprecated in version 1.4 and will be removed in 1.6. To calculate the root mean squared error, use the function'root_mean_squared_error'.\n",
      "  warnings.warn(\n",
      "\n",
      "/home/mlops/anaconda3/envs/exp-tracking-env/lib/python3.9/site-packages/xgboost/core.py:160: UserWarning: [22:56:07] WARNING: /workspace/src/objective/regression_obj.cu:209: reg:linear is now deprecated in favor of reg:squarederror.\n",
      "  warnings.warn(smsg, UserWarning)\n",
      "\n"
     ]
    },
    {
     "name": "stdout",
     "output_type": "stream",
     "text": [
      "[0]\tvalidation-rmse:5.04495                                     \n",
      "[1]\tvalidation-rmse:4.82370                                     \n",
      "[2]\tvalidation-rmse:4.79254                                     \n",
      "[3]\tvalidation-rmse:4.78442                                     \n",
      "[4]\tvalidation-rmse:4.77719                                     \n",
      "[5]\tvalidation-rmse:4.77065                                     \n",
      "[6]\tvalidation-rmse:4.76429                                     \n",
      "[7]\tvalidation-rmse:4.75777                                     \n",
      "[8]\tvalidation-rmse:4.75262                                     \n",
      "[9]\tvalidation-rmse:4.74736                                     \n",
      " 86%|▊| 43/50 [32:34<04:31, 38.72s/trial, best loss: 4.696573500"
     ]
    },
    {
     "name": "stderr",
     "output_type": "stream",
     "text": [
      "/home/mlops/anaconda3/envs/exp-tracking-env/lib/python3.9/site-packages/sklearn/metrics/_regression.py:492: FutureWarning: 'squared' is deprecated in version 1.4 and will be removed in 1.6. To calculate the root mean squared error, use the function'root_mean_squared_error'.\n",
      "  warnings.warn(\n",
      "\n",
      "/home/mlops/anaconda3/envs/exp-tracking-env/lib/python3.9/site-packages/xgboost/core.py:160: UserWarning: [22:56:44] WARNING: /workspace/src/objective/regression_obj.cu:209: reg:linear is now deprecated in favor of reg:squarederror.\n",
      "  warnings.warn(smsg, UserWarning)\n",
      "\n"
     ]
    },
    {
     "name": "stdout",
     "output_type": "stream",
     "text": [
      "[0]\tvalidation-rmse:8.61361                                     \n",
      "[1]\tvalidation-rmse:7.53323                                     \n",
      "[2]\tvalidation-rmse:6.74500                                     \n",
      "[3]\tvalidation-rmse:6.18118                                     \n",
      "[4]\tvalidation-rmse:5.78323                                     \n",
      "[5]\tvalidation-rmse:5.50714                                     \n",
      "[6]\tvalidation-rmse:5.31402                                     \n",
      "[7]\tvalidation-rmse:5.18081                                     \n",
      "[8]\tvalidation-rmse:5.08807                                     \n",
      "[9]\tvalidation-rmse:5.02204                                     \n",
      " 88%|▉| 44/50 [33:09<03:45, 37.51s/trial, best loss: 4.696573500"
     ]
    },
    {
     "name": "stderr",
     "output_type": "stream",
     "text": [
      "/home/mlops/anaconda3/envs/exp-tracking-env/lib/python3.9/site-packages/sklearn/metrics/_regression.py:492: FutureWarning: 'squared' is deprecated in version 1.4 and will be removed in 1.6. To calculate the root mean squared error, use the function'root_mean_squared_error'.\n",
      "  warnings.warn(\n",
      "\n",
      "/home/mlops/anaconda3/envs/exp-tracking-env/lib/python3.9/site-packages/xgboost/core.py:160: UserWarning: [22:57:18] WARNING: /workspace/src/objective/regression_obj.cu:209: reg:linear is now deprecated in favor of reg:squarederror.\n",
      "  warnings.warn(smsg, UserWarning)\n",
      "\n"
     ]
    },
    {
     "name": "stdout",
     "output_type": "stream",
     "text": [
      "[0]\tvalidation-rmse:6.52451                                     \n",
      "[1]\tvalidation-rmse:5.31029                                     \n",
      "[2]\tvalidation-rmse:4.93583                                     \n",
      "[3]\tvalidation-rmse:4.81155                                     \n",
      "[4]\tvalidation-rmse:4.76080                                     \n",
      "[5]\tvalidation-rmse:4.73800                                     \n",
      "[6]\tvalidation-rmse:4.72128                                     \n",
      "[7]\tvalidation-rmse:4.71066                                     \n",
      "[8]\tvalidation-rmse:4.70394                                     \n",
      "[9]\tvalidation-rmse:4.70018                                     \n",
      " 90%|▉| 45/50 [33:59<03:26, 41.38s/trial, best loss: 4.696573500"
     ]
    },
    {
     "name": "stderr",
     "output_type": "stream",
     "text": [
      "/home/mlops/anaconda3/envs/exp-tracking-env/lib/python3.9/site-packages/sklearn/metrics/_regression.py:492: FutureWarning: 'squared' is deprecated in version 1.4 and will be removed in 1.6. To calculate the root mean squared error, use the function'root_mean_squared_error'.\n",
      "  warnings.warn(\n",
      "\n",
      "/home/mlops/anaconda3/envs/exp-tracking-env/lib/python3.9/site-packages/xgboost/core.py:160: UserWarning: [22:58:09] WARNING: /workspace/src/objective/regression_obj.cu:209: reg:linear is now deprecated in favor of reg:squarederror.\n",
      "  warnings.warn(smsg, UserWarning)\n",
      "\n"
     ]
    },
    {
     "name": "stdout",
     "output_type": "stream",
     "text": [
      "[0]\tvalidation-rmse:8.10516                                     \n",
      "[1]\tvalidation-rmse:6.82426                                     \n",
      "[2]\tvalidation-rmse:6.01744                                     \n",
      "[3]\tvalidation-rmse:5.52544                                     \n",
      "[4]\tvalidation-rmse:5.23204                                     \n",
      "[5]\tvalidation-rmse:5.05647                                     \n",
      "[6]\tvalidation-rmse:4.95086                                     \n",
      "[7]\tvalidation-rmse:4.88350                                     \n",
      "[8]\tvalidation-rmse:4.83992                                     \n",
      "[9]\tvalidation-rmse:4.81008                                     \n",
      " 92%|▉| 46/50 [34:51<02:57, 44.48s/trial, best loss: 4.696573500"
     ]
    },
    {
     "name": "stderr",
     "output_type": "stream",
     "text": [
      "/home/mlops/anaconda3/envs/exp-tracking-env/lib/python3.9/site-packages/sklearn/metrics/_regression.py:492: FutureWarning: 'squared' is deprecated in version 1.4 and will be removed in 1.6. To calculate the root mean squared error, use the function'root_mean_squared_error'.\n",
      "  warnings.warn(\n",
      "\n",
      "/home/mlops/anaconda3/envs/exp-tracking-env/lib/python3.9/site-packages/xgboost/core.py:160: UserWarning: [22:59:00] WARNING: /workspace/src/objective/regression_obj.cu:209: reg:linear is now deprecated in favor of reg:squarederror.\n",
      "  warnings.warn(smsg, UserWarning)\n",
      "\n"
     ]
    },
    {
     "name": "stdout",
     "output_type": "stream",
     "text": [
      "[0]\tvalidation-rmse:4.94494                                     \n",
      "[1]\tvalidation-rmse:4.89249                                     \n",
      "[2]\tvalidation-rmse:4.88036                                     \n",
      "[3]\tvalidation-rmse:4.86967                                     \n",
      "[4]\tvalidation-rmse:4.86063                                     \n",
      "[5]\tvalidation-rmse:4.85106                                     \n",
      "[6]\tvalidation-rmse:4.84353                                     \n",
      "[7]\tvalidation-rmse:4.83673                                     \n",
      "[8]\tvalidation-rmse:4.82901                                     \n",
      "[9]\tvalidation-rmse:4.82178                                     \n",
      " 94%|▉| 47/50 [35:23<02:02, 40.95s/trial, best loss: 4.696573500"
     ]
    },
    {
     "name": "stderr",
     "output_type": "stream",
     "text": [
      "/home/mlops/anaconda3/envs/exp-tracking-env/lib/python3.9/site-packages/sklearn/metrics/_regression.py:492: FutureWarning: 'squared' is deprecated in version 1.4 and will be removed in 1.6. To calculate the root mean squared error, use the function'root_mean_squared_error'.\n",
      "  warnings.warn(\n",
      "\n",
      "/home/mlops/anaconda3/envs/exp-tracking-env/lib/python3.9/site-packages/xgboost/core.py:160: UserWarning: [22:59:33] WARNING: /workspace/src/objective/regression_obj.cu:209: reg:linear is now deprecated in favor of reg:squarederror.\n",
      "  warnings.warn(smsg, UserWarning)\n",
      "\n"
     ]
    },
    {
     "name": "stdout",
     "output_type": "stream",
     "text": [
      "[0]\tvalidation-rmse:7.55889                                     \n",
      "[1]\tvalidation-rmse:6.17724                                     \n",
      "[2]\tvalidation-rmse:5.46172                                     \n",
      "[3]\tvalidation-rmse:5.10677                                     \n",
      "[4]\tvalidation-rmse:4.93041                                     \n",
      "[5]\tvalidation-rmse:4.83914                                     \n",
      "[6]\tvalidation-rmse:4.78783                                     \n",
      "[7]\tvalidation-rmse:4.75801                                     \n",
      "[8]\tvalidation-rmse:4.73910                                     \n",
      "[9]\tvalidation-rmse:4.72470                                     \n",
      " 96%|▉| 48/50 [36:29<01:36, 48.24s/trial, best loss: 4.696573500"
     ]
    },
    {
     "name": "stderr",
     "output_type": "stream",
     "text": [
      "/home/mlops/anaconda3/envs/exp-tracking-env/lib/python3.9/site-packages/sklearn/metrics/_regression.py:492: FutureWarning: 'squared' is deprecated in version 1.4 and will be removed in 1.6. To calculate the root mean squared error, use the function'root_mean_squared_error'.\n",
      "  warnings.warn(\n",
      "\n",
      "/home/mlops/anaconda3/envs/exp-tracking-env/lib/python3.9/site-packages/xgboost/core.py:160: UserWarning: [23:00:38] WARNING: /workspace/src/objective/regression_obj.cu:209: reg:linear is now deprecated in favor of reg:squarederror.\n",
      "  warnings.warn(smsg, UserWarning)\n",
      "\n"
     ]
    },
    {
     "name": "stdout",
     "output_type": "stream",
     "text": [
      "[0]\tvalidation-rmse:6.20736                                     \n",
      "[1]\tvalidation-rmse:5.22457                                     \n",
      "[2]\tvalidation-rmse:4.99091                                     \n",
      "[3]\tvalidation-rmse:4.91812                                     \n",
      "[4]\tvalidation-rmse:4.89308                                     \n",
      "[5]\tvalidation-rmse:4.87892                                     \n",
      "[6]\tvalidation-rmse:4.87067                                     \n",
      "[7]\tvalidation-rmse:4.86566                                     \n",
      "[8]\tvalidation-rmse:4.86085                                     \n",
      "[9]\tvalidation-rmse:4.85615                                     \n",
      " 98%|▉| 49/50 [36:56<00:42, 42.11s/trial, best loss: 4.696573500"
     ]
    },
    {
     "name": "stderr",
     "output_type": "stream",
     "text": [
      "/home/mlops/anaconda3/envs/exp-tracking-env/lib/python3.9/site-packages/sklearn/metrics/_regression.py:492: FutureWarning: 'squared' is deprecated in version 1.4 and will be removed in 1.6. To calculate the root mean squared error, use the function'root_mean_squared_error'.\n",
      "  warnings.warn(\n",
      "\n",
      "/home/mlops/anaconda3/envs/exp-tracking-env/lib/python3.9/site-packages/xgboost/core.py:160: UserWarning: [23:01:06] WARNING: /workspace/src/objective/regression_obj.cu:209: reg:linear is now deprecated in favor of reg:squarederror.\n",
      "  warnings.warn(smsg, UserWarning)\n",
      "\n"
     ]
    },
    {
     "name": "stdout",
     "output_type": "stream",
     "text": [
      "[0]\tvalidation-rmse:8.91152                                     \n",
      "[1]\tvalidation-rmse:7.98792                                     \n",
      "[2]\tvalidation-rmse:7.25774                                     \n",
      "[3]\tvalidation-rmse:6.68769                                     \n",
      "[4]\tvalidation-rmse:6.24625                                     \n",
      "[5]\tvalidation-rmse:5.90886                                     \n",
      "[6]\tvalidation-rmse:5.65166                                     \n",
      "[7]\tvalidation-rmse:5.45801                                     \n",
      "[8]\tvalidation-rmse:5.31180                                     \n",
      "[9]\tvalidation-rmse:5.20192                                     \n",
      "100%|█| 50/50 [37:37<00:00, 45.15s/trial, best loss: 4.696573500\n"
     ]
    },
    {
     "name": "stderr",
     "output_type": "stream",
     "text": [
      "/home/mlops/anaconda3/envs/exp-tracking-env/lib/python3.9/site-packages/sklearn/metrics/_regression.py:492: FutureWarning: 'squared' is deprecated in version 1.4 and will be removed in 1.6. To calculate the root mean squared error, use the function'root_mean_squared_error'.\n",
      "  warnings.warn(\n",
      "\n"
     ]
    }
   ],
   "source": [
    "search_space = {\n",
    "    'max_depth': scope.int(hp.quniform('max_depth', 4, 100, 1)),\n",
    "    'learning_rate': hp.loguniform('learning_rate', -3, 0),\n",
    "    'reg_alpha': hp.loguniform('reg_alpha', -5, -1),\n",
    "    'reg_lambda': hp.loguniform('reg_lambda', -6, -1),\n",
    "    'min_child_weight': hp.loguniform('min_child_weight', -1, 3),\n",
    "    'objective': 'reg:linear',\n",
    "    'seed': 42\n",
    "}\n",
    "\n",
    "best_result = fmin(\n",
    "    fn=objective,\n",
    "    space=search_space,\n",
    "    algo=tpe.suggest,\n",
    "    max_evals=50,\n",
    "    trials=Trials()\n",
    ")"
   ]
  },
  {
   "cell_type": "code",
   "execution_count": 24,
   "id": "fc4d5283",
   "metadata": {},
   "outputs": [],
   "source": [
    "mlflow.xgboost.autolog(disable=True)"
   ]
  },
  {
   "cell_type": "code",
   "execution_count": 25,
   "id": "0e8cd729",
   "metadata": {},
   "outputs": [
    {
     "name": "stderr",
     "output_type": "stream",
     "text": [
      "/home/mlops/anaconda3/envs/exp-tracking-env/lib/python3.9/site-packages/xgboost/core.py:160: UserWarning: [23:05:16] WARNING: /workspace/src/objective/regression_obj.cu:209: reg:linear is now deprecated in favor of reg:squarederror.\n",
      "  warnings.warn(smsg, UserWarning)\n"
     ]
    },
    {
     "name": "stdout",
     "output_type": "stream",
     "text": [
      "[0]\tvalidation-rmse:6.54451\n",
      "[1]\tvalidation-rmse:5.32228\n",
      "[2]\tvalidation-rmse:4.94071\n",
      "[3]\tvalidation-rmse:4.81319\n",
      "[4]\tvalidation-rmse:4.75991\n",
      "[5]\tvalidation-rmse:4.73472\n",
      "[6]\tvalidation-rmse:4.71822\n",
      "[7]\tvalidation-rmse:4.70741\n",
      "[8]\tvalidation-rmse:4.70018\n",
      "[9]\tvalidation-rmse:4.69657\n",
      "[10]\tvalidation-rmse:4.69350\n",
      "[11]\tvalidation-rmse:4.69098\n",
      "[12]\tvalidation-rmse:4.68805\n",
      "[13]\tvalidation-rmse:4.68526\n",
      "[14]\tvalidation-rmse:4.68264\n",
      "[15]\tvalidation-rmse:4.67991\n",
      "[16]\tvalidation-rmse:4.67751\n",
      "[17]\tvalidation-rmse:4.67542\n",
      "[18]\tvalidation-rmse:4.67326\n",
      "[19]\tvalidation-rmse:4.67115\n",
      "[20]\tvalidation-rmse:4.66909\n",
      "[21]\tvalidation-rmse:4.66712\n",
      "[22]\tvalidation-rmse:4.66527\n",
      "[23]\tvalidation-rmse:4.66321\n",
      "[24]\tvalidation-rmse:4.66149\n",
      "[25]\tvalidation-rmse:4.65922\n",
      "[26]\tvalidation-rmse:4.65733\n",
      "[27]\tvalidation-rmse:4.65566\n",
      "[28]\tvalidation-rmse:4.65382\n",
      "[29]\tvalidation-rmse:4.65246\n",
      "[30]\tvalidation-rmse:4.65068\n",
      "[31]\tvalidation-rmse:4.64809\n",
      "[32]\tvalidation-rmse:4.64662\n",
      "[33]\tvalidation-rmse:4.64526\n",
      "[34]\tvalidation-rmse:4.64377\n",
      "[35]\tvalidation-rmse:4.64251\n",
      "[36]\tvalidation-rmse:4.64119\n",
      "[37]\tvalidation-rmse:4.64018\n",
      "[38]\tvalidation-rmse:4.63848\n",
      "[39]\tvalidation-rmse:4.63728\n",
      "[40]\tvalidation-rmse:4.63616\n",
      "[41]\tvalidation-rmse:4.63536\n",
      "[42]\tvalidation-rmse:4.63330\n",
      "[43]\tvalidation-rmse:4.63232\n",
      "[44]\tvalidation-rmse:4.63128\n",
      "[45]\tvalidation-rmse:4.63042\n",
      "[46]\tvalidation-rmse:4.62977\n",
      "[47]\tvalidation-rmse:4.62915\n",
      "[48]\tvalidation-rmse:4.62767\n",
      "[49]\tvalidation-rmse:4.62694\n",
      "[50]\tvalidation-rmse:4.62616\n",
      "[51]\tvalidation-rmse:4.62564\n",
      "[52]\tvalidation-rmse:4.62334\n",
      "[53]\tvalidation-rmse:4.62276\n",
      "[54]\tvalidation-rmse:4.62193\n",
      "[55]\tvalidation-rmse:4.62138\n",
      "[56]\tvalidation-rmse:4.62084\n",
      "[57]\tvalidation-rmse:4.62000\n",
      "[58]\tvalidation-rmse:4.61946\n",
      "[59]\tvalidation-rmse:4.61720\n",
      "[60]\tvalidation-rmse:4.61669\n",
      "[61]\tvalidation-rmse:4.61631\n",
      "[62]\tvalidation-rmse:4.61584\n",
      "[63]\tvalidation-rmse:4.61549\n",
      "[64]\tvalidation-rmse:4.61398\n",
      "[65]\tvalidation-rmse:4.61306\n",
      "[66]\tvalidation-rmse:4.61267\n",
      "[67]\tvalidation-rmse:4.61215\n",
      "[68]\tvalidation-rmse:4.61180\n",
      "[69]\tvalidation-rmse:4.61131\n",
      "[70]\tvalidation-rmse:4.61064\n",
      "[71]\tvalidation-rmse:4.60950\n",
      "[72]\tvalidation-rmse:4.60919\n",
      "[73]\tvalidation-rmse:4.60881\n",
      "[74]\tvalidation-rmse:4.60847\n",
      "[75]\tvalidation-rmse:4.60794\n",
      "[76]\tvalidation-rmse:4.60753\n",
      "[77]\tvalidation-rmse:4.60664\n",
      "[78]\tvalidation-rmse:4.60642\n",
      "[79]\tvalidation-rmse:4.60627\n",
      "[80]\tvalidation-rmse:4.60588\n",
      "[81]\tvalidation-rmse:4.60564\n",
      "[82]\tvalidation-rmse:4.60442\n",
      "[83]\tvalidation-rmse:4.60328\n",
      "[84]\tvalidation-rmse:4.60290\n",
      "[85]\tvalidation-rmse:4.60276\n",
      "[86]\tvalidation-rmse:4.60239\n",
      "[87]\tvalidation-rmse:4.60210\n",
      "[88]\tvalidation-rmse:4.60180\n",
      "[89]\tvalidation-rmse:4.60150\n",
      "[90]\tvalidation-rmse:4.60127\n",
      "[91]\tvalidation-rmse:4.60102\n",
      "[92]\tvalidation-rmse:4.60073\n",
      "[93]\tvalidation-rmse:4.60043\n",
      "[94]\tvalidation-rmse:4.59960\n",
      "[95]\tvalidation-rmse:4.59941\n",
      "[96]\tvalidation-rmse:4.59927\n",
      "[97]\tvalidation-rmse:4.59849\n",
      "[98]\tvalidation-rmse:4.59756\n",
      "[99]\tvalidation-rmse:4.59669\n"
     ]
    },
    {
     "name": "stderr",
     "output_type": "stream",
     "text": [
      "/home/mlops/anaconda3/envs/exp-tracking-env/lib/python3.9/site-packages/sklearn/metrics/_regression.py:492: FutureWarning: 'squared' is deprecated in version 1.4 and will be removed in 1.6. To calculate the root mean squared error, use the function'root_mean_squared_error'.\n",
      "  warnings.warn(\n",
      "/home/mlops/anaconda3/envs/exp-tracking-env/lib/python3.9/site-packages/xgboost/core.py:160: UserWarning: [23:10:34] WARNING: /workspace/src/c_api/c_api.cc:1240: Saving into deprecated binary model format, please consider using `json` or `ubj`. Model format will default to JSON in XGBoost 2.2 if not specified.\n",
      "  warnings.warn(smsg, UserWarning)\n"
     ]
    }
   ],
   "source": [
    "with mlflow.start_run():\n",
    "    \n",
    "    train = xgb.DMatrix(X_train, label=y_train)\n",
    "    valid = xgb.DMatrix(X_val, label=y_val)\n",
    "\n",
    "    best_params = {\n",
    "        'learning_rate': 0.515363222104369,\n",
    "        'max_depth': 94,\n",
    "        'min_child_weight': 6.239676007741263,\n",
    "        'objective': 'reg:linear',\n",
    "        'reg_alpha': 0.08024205108205405,\n",
    "        'reg_lambda': 0.002576667534447248,\n",
    "        'seed': 42\n",
    "    }\n",
    "\n",
    "    mlflow.log_params(best_params)\n",
    "\n",
    "    booster = xgb.train(\n",
    "        params=best_params,\n",
    "        dtrain=train,\n",
    "        num_boost_round=100,\n",
    "        evals=[(valid, 'validation')],\n",
    "        early_stopping_rounds=5\n",
    "    )\n",
    "\n",
    "    y_pred = booster.predict(valid)\n",
    "    rmse = mean_squared_error(y_val, y_pred, squared=False)\n",
    "    mlflow.log_metric(\"rmse\", rmse)\n",
    "\n",
    "    with open(\"models/preprocessor.b\", \"wb\") as f_out:\n",
    "        pickle.dump(dv, f_out)\n",
    "    mlflow.log_artifact(\"models/preprocessor.b\", artifact_path=\"preprocessor\")\n",
    "\n",
    "    mlflow.xgboost.log_model(booster, artifact_path=\"models_mlflow\")"
   ]
  },
  {
   "cell_type": "code",
   "execution_count": 29,
   "id": "c2108f4b",
   "metadata": {},
   "outputs": [],
   "source": [
    "\n",
    "\n"
   ]
  },
  {
   "cell_type": "code",
   "execution_count": 30,
   "id": "87614b82",
   "metadata": {},
   "outputs": [
    {
     "name": "stderr",
     "output_type": "stream",
     "text": [
      "2024/05/30 23:18:30 WARNING mlflow.utils.autologging_utils: You are using an unsupported version of sklearn. If you encounter errors during autologging, try upgrading / downgrading sklearn to a supported version, or try upgrading MLflow.\n",
      "2024/05/30 23:18:30 WARNING mlflow.utils.autologging_utils: MLflow autologging encountered a warning: \"/home/mlops/anaconda3/envs/exp-tracking-env/lib/python3.9/site-packages/_distutils_hack/__init__.py:11: UserWarning: Distutils was imported before Setuptools, but importing Setuptools also replaces the `distutils` module in `sys.modules`. This may lead to undesirable behaviors or errors. To avoid these issues, avoid using distutils directly, ensure that setuptools is installed in the traditional way (e.g. not an editable install), and/or make sure that setuptools is always imported before distutils.\"\n",
      "2024/05/30 23:18:30 WARNING mlflow.utils.autologging_utils: MLflow autologging encountered a warning: \"/home/mlops/anaconda3/envs/exp-tracking-env/lib/python3.9/site-packages/_distutils_hack/__init__.py:26: UserWarning: Setuptools is replacing distutils.\"\n"
     ]
    },
    {
     "ename": "AssertionError",
     "evalue": "/home/mlops/anaconda3/envs/exp-tracking-env/lib/python3.9/distutils/core.py",
     "output_type": "error",
     "traceback": [
      "\u001b[0;31m---------------------------------------------------------------------------\u001b[0m",
      "\u001b[0;31mAssertionError\u001b[0m                            Traceback (most recent call last)",
      "Cell \u001b[0;32mIn[30], line 4\u001b[0m\n\u001b[1;32m      1\u001b[0m \u001b[38;5;28;01mfrom\u001b[39;00m \u001b[38;5;21;01msklearn\u001b[39;00m\u001b[38;5;21;01m.\u001b[39;00m\u001b[38;5;21;01mensemble\u001b[39;00m \u001b[38;5;28;01mimport\u001b[39;00m RandomForestRegressor, GradientBoostingRegressor, ExtraTreesRegressor\n\u001b[1;32m      2\u001b[0m \u001b[38;5;28;01mfrom\u001b[39;00m \u001b[38;5;21;01msklearn\u001b[39;00m\u001b[38;5;21;01m.\u001b[39;00m\u001b[38;5;21;01msvm\u001b[39;00m \u001b[38;5;28;01mimport\u001b[39;00m LinearSVR\n\u001b[0;32m----> 4\u001b[0m \u001b[43mmlflow\u001b[49m\u001b[38;5;241;43m.\u001b[39;49m\u001b[43msklearn\u001b[49m\u001b[38;5;241;43m.\u001b[39;49m\u001b[43mautolog\u001b[49m\u001b[43m(\u001b[49m\u001b[43m)\u001b[49m\n\u001b[1;32m      6\u001b[0m \u001b[38;5;28;01mfor\u001b[39;00m model_class \u001b[38;5;129;01min\u001b[39;00m (RandomForestRegressor, GradientBoostingRegressor, ExtraTreesRegressor, LinearSVR):\n\u001b[1;32m      8\u001b[0m     \u001b[38;5;28;01mwith\u001b[39;00m mlflow\u001b[38;5;241m.\u001b[39mstart_run():\n",
      "File \u001b[0;32m~/anaconda3/envs/exp-tracking-env/lib/python3.9/site-packages/mlflow/utils/autologging_utils/__init__.py:432\u001b[0m, in \u001b[0;36mautologging_integration.<locals>.wrapper.<locals>.autolog\u001b[0;34m(*args, **kwargs)\u001b[0m\n\u001b[1;32m    413\u001b[0m \u001b[38;5;28;01mwith\u001b[39;00m set_mlflow_events_and_warnings_behavior_globally(\n\u001b[1;32m    414\u001b[0m     \u001b[38;5;66;03m# MLflow warnings emitted during autologging setup / enablement are likely\u001b[39;00m\n\u001b[1;32m    415\u001b[0m     \u001b[38;5;66;03m# actionable and relevant to the user, so they should be emitted as normal\u001b[39;00m\n\u001b[0;32m   (...)\u001b[0m\n\u001b[1;32m    428\u001b[0m     disable_warnings\u001b[38;5;241m=\u001b[39mis_silent_mode,\n\u001b[1;32m    429\u001b[0m ):\n\u001b[1;32m    430\u001b[0m     _check_and_log_warning_for_unsupported_package_versions(name)\n\u001b[0;32m--> 432\u001b[0m     \u001b[38;5;28;01mreturn\u001b[39;00m \u001b[43m_autolog\u001b[49m\u001b[43m(\u001b[49m\u001b[38;5;241;43m*\u001b[39;49m\u001b[43margs\u001b[49m\u001b[43m,\u001b[49m\u001b[43m \u001b[49m\u001b[38;5;241;43m*\u001b[39;49m\u001b[38;5;241;43m*\u001b[39;49m\u001b[43mkwargs\u001b[49m\u001b[43m)\u001b[49m\n",
      "File \u001b[0;32m~/anaconda3/envs/exp-tracking-env/lib/python3.9/site-packages/mlflow/sklearn/__init__.py:1274\u001b[0m, in \u001b[0;36mautolog\u001b[0;34m(log_input_examples, log_model_signatures, log_models, log_datasets, disable, exclusive, disable_for_unsupported_versions, silent, max_tuning_runs, log_post_training_metrics, serialization_format, registered_model_name, pos_label, extra_tags)\u001b[0m\n\u001b[1;32m    988\u001b[0m \u001b[38;5;129m@autologging_integration\u001b[39m(FLAVOR_NAME)\n\u001b[1;32m    989\u001b[0m \u001b[38;5;28;01mdef\u001b[39;00m \u001b[38;5;21mautolog\u001b[39m(\n\u001b[1;32m    990\u001b[0m     log_input_examples\u001b[38;5;241m=\u001b[39m\u001b[38;5;28;01mFalse\u001b[39;00m,\n\u001b[0;32m   (...)\u001b[0m\n\u001b[1;32m   1003\u001b[0m     extra_tags\u001b[38;5;241m=\u001b[39m\u001b[38;5;28;01mNone\u001b[39;00m,\n\u001b[1;32m   1004\u001b[0m ):\n\u001b[1;32m   1005\u001b[0m \u001b[38;5;250m    \u001b[39m\u001b[38;5;124;03m\"\"\"\u001b[39;00m\n\u001b[1;32m   1006\u001b[0m \u001b[38;5;124;03m    Enables (or disables) and configures autologging for scikit-learn estimators.\u001b[39;00m\n\u001b[1;32m   1007\u001b[0m \n\u001b[0;32m   (...)\u001b[0m\n\u001b[1;32m   1272\u001b[0m \u001b[38;5;124;03m        extra_tags: A dictionary of extra tags to set on each managed run created by autologging.\u001b[39;00m\n\u001b[1;32m   1273\u001b[0m \u001b[38;5;124;03m    \"\"\"\u001b[39;00m\n\u001b[0;32m-> 1274\u001b[0m     \u001b[43m_autolog\u001b[49m\u001b[43m(\u001b[49m\n\u001b[1;32m   1275\u001b[0m \u001b[43m        \u001b[49m\u001b[43mflavor_name\u001b[49m\u001b[38;5;241;43m=\u001b[39;49m\u001b[43mFLAVOR_NAME\u001b[49m\u001b[43m,\u001b[49m\n\u001b[1;32m   1276\u001b[0m \u001b[43m        \u001b[49m\u001b[43mlog_input_examples\u001b[49m\u001b[38;5;241;43m=\u001b[39;49m\u001b[43mlog_input_examples\u001b[49m\u001b[43m,\u001b[49m\n\u001b[1;32m   1277\u001b[0m \u001b[43m        \u001b[49m\u001b[43mlog_model_signatures\u001b[49m\u001b[38;5;241;43m=\u001b[39;49m\u001b[43mlog_model_signatures\u001b[49m\u001b[43m,\u001b[49m\n\u001b[1;32m   1278\u001b[0m \u001b[43m        \u001b[49m\u001b[43mlog_models\u001b[49m\u001b[38;5;241;43m=\u001b[39;49m\u001b[43mlog_models\u001b[49m\u001b[43m,\u001b[49m\n\u001b[1;32m   1279\u001b[0m \u001b[43m        \u001b[49m\u001b[43mlog_datasets\u001b[49m\u001b[38;5;241;43m=\u001b[39;49m\u001b[43mlog_datasets\u001b[49m\u001b[43m,\u001b[49m\n\u001b[1;32m   1280\u001b[0m \u001b[43m        \u001b[49m\u001b[43mdisable\u001b[49m\u001b[38;5;241;43m=\u001b[39;49m\u001b[43mdisable\u001b[49m\u001b[43m,\u001b[49m\n\u001b[1;32m   1281\u001b[0m \u001b[43m        \u001b[49m\u001b[43mexclusive\u001b[49m\u001b[38;5;241;43m=\u001b[39;49m\u001b[43mexclusive\u001b[49m\u001b[43m,\u001b[49m\n\u001b[1;32m   1282\u001b[0m \u001b[43m        \u001b[49m\u001b[43mdisable_for_unsupported_versions\u001b[49m\u001b[38;5;241;43m=\u001b[39;49m\u001b[43mdisable_for_unsupported_versions\u001b[49m\u001b[43m,\u001b[49m\n\u001b[1;32m   1283\u001b[0m \u001b[43m        \u001b[49m\u001b[43msilent\u001b[49m\u001b[38;5;241;43m=\u001b[39;49m\u001b[43msilent\u001b[49m\u001b[43m,\u001b[49m\n\u001b[1;32m   1284\u001b[0m \u001b[43m        \u001b[49m\u001b[43mmax_tuning_runs\u001b[49m\u001b[38;5;241;43m=\u001b[39;49m\u001b[43mmax_tuning_runs\u001b[49m\u001b[43m,\u001b[49m\n\u001b[1;32m   1285\u001b[0m \u001b[43m        \u001b[49m\u001b[43mlog_post_training_metrics\u001b[49m\u001b[38;5;241;43m=\u001b[39;49m\u001b[43mlog_post_training_metrics\u001b[49m\u001b[43m,\u001b[49m\n\u001b[1;32m   1286\u001b[0m \u001b[43m        \u001b[49m\u001b[43mserialization_format\u001b[49m\u001b[38;5;241;43m=\u001b[39;49m\u001b[43mserialization_format\u001b[49m\u001b[43m,\u001b[49m\n\u001b[1;32m   1287\u001b[0m \u001b[43m        \u001b[49m\u001b[43mpos_label\u001b[49m\u001b[38;5;241;43m=\u001b[39;49m\u001b[43mpos_label\u001b[49m\u001b[43m,\u001b[49m\n\u001b[1;32m   1288\u001b[0m \u001b[43m        \u001b[49m\u001b[43mextra_tags\u001b[49m\u001b[38;5;241;43m=\u001b[39;49m\u001b[43mextra_tags\u001b[49m\u001b[43m,\u001b[49m\n\u001b[1;32m   1289\u001b[0m \u001b[43m    \u001b[49m\u001b[43m)\u001b[49m\n",
      "File \u001b[0;32m~/anaconda3/envs/exp-tracking-env/lib/python3.9/site-packages/mlflow/sklearn/__init__.py:1836\u001b[0m, in \u001b[0;36m_autolog\u001b[0;34m(flavor_name, log_input_examples, log_model_signatures, log_models, log_datasets, disable, exclusive, disable_for_unsupported_versions, silent, max_tuning_runs, log_post_training_metrics, serialization_format, pos_label, extra_tags)\u001b[0m\n\u001b[1;32m   1834\u001b[0m     allow_children_patch \u001b[38;5;241m=\u001b[39m \u001b[38;5;28;01mTrue\u001b[39;00m\n\u001b[1;32m   1835\u001b[0m \u001b[38;5;28;01melse\u001b[39;00m:\n\u001b[0;32m-> 1836\u001b[0m     estimators_to_patch \u001b[38;5;241m=\u001b[39m \u001b[43m_gen_estimators_to_patch\u001b[49m\u001b[43m(\u001b[49m\u001b[43m)\u001b[49m\n\u001b[1;32m   1837\u001b[0m     patched_fit_impl \u001b[38;5;241m=\u001b[39m fit_mlflow\n\u001b[1;32m   1838\u001b[0m     allow_children_patch \u001b[38;5;241m=\u001b[39m \u001b[38;5;28;01mFalse\u001b[39;00m\n",
      "File \u001b[0;32m~/anaconda3/envs/exp-tracking-env/lib/python3.9/site-packages/mlflow/sklearn/__init__.py:100\u001b[0m, in \u001b[0;36m_gen_estimators_to_patch\u001b[0;34m()\u001b[0m\n\u001b[1;32m     94\u001b[0m \u001b[38;5;28;01mdef\u001b[39;00m \u001b[38;5;21m_gen_estimators_to_patch\u001b[39m():\n\u001b[1;32m     95\u001b[0m     \u001b[38;5;28;01mfrom\u001b[39;00m \u001b[38;5;21;01mmlflow\u001b[39;00m\u001b[38;5;21;01m.\u001b[39;00m\u001b[38;5;21;01msklearn\u001b[39;00m\u001b[38;5;21;01m.\u001b[39;00m\u001b[38;5;21;01mutils\u001b[39;00m \u001b[38;5;28;01mimport\u001b[39;00m (\n\u001b[1;32m     96\u001b[0m         _all_estimators,\n\u001b[1;32m     97\u001b[0m         _get_meta_estimators_for_autologging,\n\u001b[1;32m     98\u001b[0m     )\n\u001b[0;32m--> 100\u001b[0m     _, estimators_to_patch \u001b[38;5;241m=\u001b[39m \u001b[38;5;28mzip\u001b[39m(\u001b[38;5;241m*\u001b[39m\u001b[43m_all_estimators\u001b[49m\u001b[43m(\u001b[49m\u001b[43m)\u001b[49m)\n\u001b[1;32m    101\u001b[0m     \u001b[38;5;66;03m# Ensure that relevant meta estimators (e.g. GridSearchCV, Pipeline) are selected\u001b[39;00m\n\u001b[1;32m    102\u001b[0m     \u001b[38;5;66;03m# for patching if they are not already included in the output of `all_estimators()`\u001b[39;00m\n\u001b[1;32m    103\u001b[0m     estimators_to_patch \u001b[38;5;241m=\u001b[39m \u001b[38;5;28mset\u001b[39m(estimators_to_patch)\u001b[38;5;241m.\u001b[39munion(\n\u001b[1;32m    104\u001b[0m         \u001b[38;5;28mset\u001b[39m(_get_meta_estimators_for_autologging())\n\u001b[1;32m    105\u001b[0m     )\n",
      "File \u001b[0;32m~/anaconda3/envs/exp-tracking-env/lib/python3.9/site-packages/mlflow/sklearn/utils.py:876\u001b[0m, in \u001b[0;36m_all_estimators\u001b[0;34m()\u001b[0m\n\u001b[1;32m    873\u001b[0m \u001b[38;5;28;01mtry\u001b[39;00m:\n\u001b[1;32m    874\u001b[0m     \u001b[38;5;28;01mfrom\u001b[39;00m \u001b[38;5;21;01msklearn\u001b[39;00m\u001b[38;5;21;01m.\u001b[39;00m\u001b[38;5;21;01mutils\u001b[39;00m \u001b[38;5;28;01mimport\u001b[39;00m all_estimators\n\u001b[0;32m--> 876\u001b[0m     \u001b[38;5;28;01mreturn\u001b[39;00m \u001b[43mall_estimators\u001b[49m\u001b[43m(\u001b[49m\u001b[43m)\u001b[49m\n\u001b[1;32m    877\u001b[0m \u001b[38;5;28;01mexcept\u001b[39;00m \u001b[38;5;167;01mImportError\u001b[39;00m:\n\u001b[1;32m    878\u001b[0m     \u001b[38;5;28;01mreturn\u001b[39;00m _backported_all_estimators()\n",
      "File \u001b[0;32m~/anaconda3/envs/exp-tracking-env/lib/python3.9/site-packages/sklearn/utils/discovery.py:96\u001b[0m, in \u001b[0;36mall_estimators\u001b[0;34m(type_filter)\u001b[0m\n\u001b[1;32m     93\u001b[0m \u001b[38;5;66;03m# Ignore deprecation warnings triggered at import time and from walking\u001b[39;00m\n\u001b[1;32m     94\u001b[0m \u001b[38;5;66;03m# packages\u001b[39;00m\n\u001b[1;32m     95\u001b[0m \u001b[38;5;28;01mwith\u001b[39;00m ignore_warnings(category\u001b[38;5;241m=\u001b[39m\u001b[38;5;167;01mFutureWarning\u001b[39;00m):\n\u001b[0;32m---> 96\u001b[0m     \u001b[38;5;28;01mfor\u001b[39;00m _, module_name, _ \u001b[38;5;129;01min\u001b[39;00m pkgutil\u001b[38;5;241m.\u001b[39mwalk_packages(path\u001b[38;5;241m=\u001b[39m[root], prefix\u001b[38;5;241m=\u001b[39m\u001b[38;5;124m\"\u001b[39m\u001b[38;5;124msklearn.\u001b[39m\u001b[38;5;124m\"\u001b[39m):\n\u001b[1;32m     97\u001b[0m         module_parts \u001b[38;5;241m=\u001b[39m module_name\u001b[38;5;241m.\u001b[39msplit(\u001b[38;5;124m\"\u001b[39m\u001b[38;5;124m.\u001b[39m\u001b[38;5;124m\"\u001b[39m)\n\u001b[1;32m     98\u001b[0m         \u001b[38;5;28;01mif\u001b[39;00m (\n\u001b[1;32m     99\u001b[0m             \u001b[38;5;28many\u001b[39m(part \u001b[38;5;129;01min\u001b[39;00m _MODULE_TO_IGNORE \u001b[38;5;28;01mfor\u001b[39;00m part \u001b[38;5;129;01min\u001b[39;00m module_parts)\n\u001b[1;32m    100\u001b[0m             \u001b[38;5;129;01mor\u001b[39;00m \u001b[38;5;124m\"\u001b[39m\u001b[38;5;124m._\u001b[39m\u001b[38;5;124m\"\u001b[39m \u001b[38;5;129;01min\u001b[39;00m module_name\n\u001b[1;32m    101\u001b[0m         ):\n",
      "File \u001b[0;32m~/anaconda3/envs/exp-tracking-env/lib/python3.9/pkgutil.py:93\u001b[0m, in \u001b[0;36mwalk_packages\u001b[0;34m(path, prefix, onerror)\u001b[0m\n\u001b[1;32m     91\u001b[0m \u001b[38;5;28;01mif\u001b[39;00m info\u001b[38;5;241m.\u001b[39mispkg:\n\u001b[1;32m     92\u001b[0m     \u001b[38;5;28;01mtry\u001b[39;00m:\n\u001b[0;32m---> 93\u001b[0m         \u001b[38;5;28;43m__import__\u001b[39;49m\u001b[43m(\u001b[49m\u001b[43minfo\u001b[49m\u001b[38;5;241;43m.\u001b[39;49m\u001b[43mname\u001b[49m\u001b[43m)\u001b[49m\n\u001b[1;32m     94\u001b[0m     \u001b[38;5;28;01mexcept\u001b[39;00m \u001b[38;5;167;01mImportError\u001b[39;00m:\n\u001b[1;32m     95\u001b[0m         \u001b[38;5;28;01mif\u001b[39;00m onerror \u001b[38;5;129;01mis\u001b[39;00m \u001b[38;5;129;01mnot\u001b[39;00m \u001b[38;5;28;01mNone\u001b[39;00m:\n",
      "File \u001b[0;32m~/anaconda3/envs/exp-tracking-env/lib/python3.9/site-packages/sklearn/_build_utils/__init__.py:16\u001b[0m\n\u001b[1;32m     14\u001b[0m \u001b[38;5;28;01mfrom\u001b[39;00m \u001b[38;5;21;01m.\u001b[39;00m\u001b[38;5;21;01m.\u001b[39;00m\u001b[38;5;21;01m_min_dependencies\u001b[39;00m \u001b[38;5;28;01mimport\u001b[39;00m CYTHON_MIN_VERSION\n\u001b[1;32m     15\u001b[0m \u001b[38;5;28;01mfrom\u001b[39;00m \u001b[38;5;21;01m.\u001b[39;00m\u001b[38;5;21;01m.\u001b[39;00m\u001b[38;5;21;01mexternals\u001b[39;00m\u001b[38;5;21;01m.\u001b[39;00m\u001b[38;5;21;01m_packaging\u001b[39;00m\u001b[38;5;21;01m.\u001b[39;00m\u001b[38;5;21;01mversion\u001b[39;00m \u001b[38;5;28;01mimport\u001b[39;00m parse\n\u001b[0;32m---> 16\u001b[0m \u001b[38;5;28;01mfrom\u001b[39;00m \u001b[38;5;21;01m.\u001b[39;00m\u001b[38;5;21;01mopenmp_helpers\u001b[39;00m \u001b[38;5;28;01mimport\u001b[39;00m check_openmp_support\n\u001b[1;32m     17\u001b[0m \u001b[38;5;28;01mfrom\u001b[39;00m \u001b[38;5;21;01m.\u001b[39;00m\u001b[38;5;21;01mpre_build_helpers\u001b[39;00m \u001b[38;5;28;01mimport\u001b[39;00m basic_check_build\n\u001b[1;32m     19\u001b[0m DEFAULT_ROOT \u001b[38;5;241m=\u001b[39m \u001b[38;5;124m\"\u001b[39m\u001b[38;5;124msklearn\u001b[39m\u001b[38;5;124m\"\u001b[39m\n",
      "File \u001b[0;32m~/anaconda3/envs/exp-tracking-env/lib/python3.9/site-packages/sklearn/_build_utils/openmp_helpers.py:12\u001b[0m\n\u001b[1;32m      9\u001b[0m \u001b[38;5;28;01mimport\u001b[39;00m \u001b[38;5;21;01mtextwrap\u001b[39;00m\n\u001b[1;32m     10\u001b[0m \u001b[38;5;28;01mimport\u001b[39;00m \u001b[38;5;21;01mwarnings\u001b[39;00m\n\u001b[0;32m---> 12\u001b[0m \u001b[38;5;28;01mfrom\u001b[39;00m \u001b[38;5;21;01m.\u001b[39;00m\u001b[38;5;21;01mpre_build_helpers\u001b[39;00m \u001b[38;5;28;01mimport\u001b[39;00m compile_test_program\n\u001b[1;32m     15\u001b[0m \u001b[38;5;28;01mdef\u001b[39;00m \u001b[38;5;21mget_openmp_flag\u001b[39m():\n\u001b[1;32m     16\u001b[0m     \u001b[38;5;28;01mif\u001b[39;00m sys\u001b[38;5;241m.\u001b[39mplatform \u001b[38;5;241m==\u001b[39m \u001b[38;5;124m\"\u001b[39m\u001b[38;5;124mwin32\u001b[39m\u001b[38;5;124m\"\u001b[39m:\n",
      "File \u001b[0;32m~/anaconda3/envs/exp-tracking-env/lib/python3.9/site-packages/sklearn/_build_utils/pre_build_helpers.py:10\u001b[0m\n\u001b[1;32m      7\u001b[0m \u001b[38;5;28;01mimport\u001b[39;00m \u001b[38;5;21;01mtempfile\u001b[39;00m\n\u001b[1;32m      8\u001b[0m \u001b[38;5;28;01mimport\u001b[39;00m \u001b[38;5;21;01mtextwrap\u001b[39;00m\n\u001b[0;32m---> 10\u001b[0m \u001b[38;5;28;01mfrom\u001b[39;00m \u001b[38;5;21;01msetuptools\u001b[39;00m\u001b[38;5;21;01m.\u001b[39;00m\u001b[38;5;21;01mcommand\u001b[39;00m\u001b[38;5;21;01m.\u001b[39;00m\u001b[38;5;21;01mbuild_ext\u001b[39;00m \u001b[38;5;28;01mimport\u001b[39;00m customize_compiler, new_compiler\n\u001b[1;32m     13\u001b[0m \u001b[38;5;28;01mdef\u001b[39;00m \u001b[38;5;21mcompile_test_program\u001b[39m(code, extra_preargs\u001b[38;5;241m=\u001b[39m\u001b[38;5;28;01mNone\u001b[39;00m, extra_postargs\u001b[38;5;241m=\u001b[39m\u001b[38;5;28;01mNone\u001b[39;00m):\n\u001b[1;32m     14\u001b[0m \u001b[38;5;250m    \u001b[39m\u001b[38;5;124;03m\"\"\"Check that some C code can be compiled and run\"\"\"\u001b[39;00m\n",
      "File \u001b[0;32m~/anaconda3/envs/exp-tracking-env/lib/python3.9/site-packages/setuptools/__init__.py:8\u001b[0m\n\u001b[1;32m      5\u001b[0m \u001b[38;5;28;01mimport\u001b[39;00m \u001b[38;5;21;01mre\u001b[39;00m\n\u001b[1;32m      6\u001b[0m \u001b[38;5;28;01mfrom\u001b[39;00m \u001b[38;5;21;01mtyping\u001b[39;00m \u001b[38;5;28;01mimport\u001b[39;00m TYPE_CHECKING\n\u001b[0;32m----> 8\u001b[0m \u001b[38;5;28;01mimport\u001b[39;00m \u001b[38;5;21;01m_distutils_hack\u001b[39;00m\u001b[38;5;21;01m.\u001b[39;00m\u001b[38;5;21;01moverride\u001b[39;00m  \u001b[38;5;66;03m# noqa: F401\u001b[39;00m\n\u001b[1;32m      9\u001b[0m \u001b[38;5;28;01mimport\u001b[39;00m \u001b[38;5;21;01mdistutils\u001b[39;00m\u001b[38;5;21;01m.\u001b[39;00m\u001b[38;5;21;01mcore\u001b[39;00m\n\u001b[1;32m     10\u001b[0m \u001b[38;5;28;01mfrom\u001b[39;00m \u001b[38;5;21;01mdistutils\u001b[39;00m\u001b[38;5;21;01m.\u001b[39;00m\u001b[38;5;21;01merrors\u001b[39;00m \u001b[38;5;28;01mimport\u001b[39;00m DistutilsOptionError\n",
      "File \u001b[0;32m~/anaconda3/envs/exp-tracking-env/lib/python3.9/site-packages/_distutils_hack/override.py:1\u001b[0m\n\u001b[0;32m----> 1\u001b[0m \u001b[38;5;28;43m__import__\u001b[39;49m\u001b[43m(\u001b[49m\u001b[38;5;124;43m'\u001b[39;49m\u001b[38;5;124;43m_distutils_hack\u001b[39;49m\u001b[38;5;124;43m'\u001b[39;49m\u001b[43m)\u001b[49m\u001b[38;5;241;43m.\u001b[39;49m\u001b[43mdo_override\u001b[49m\u001b[43m(\u001b[49m\u001b[43m)\u001b[49m\n",
      "File \u001b[0;32m~/anaconda3/envs/exp-tracking-env/lib/python3.9/site-packages/_distutils_hack/__init__.py:70\u001b[0m, in \u001b[0;36mdo_override\u001b[0;34m()\u001b[0m\n\u001b[1;32m     68\u001b[0m \u001b[38;5;28;01mif\u001b[39;00m enabled():\n\u001b[1;32m     69\u001b[0m     warn_distutils_present()\n\u001b[0;32m---> 70\u001b[0m     \u001b[43mensure_local_distutils\u001b[49m\u001b[43m(\u001b[49m\u001b[43m)\u001b[49m\n",
      "File \u001b[0;32m~/anaconda3/envs/exp-tracking-env/lib/python3.9/site-packages/_distutils_hack/__init__.py:57\u001b[0m, in \u001b[0;36mensure_local_distutils\u001b[0;34m()\u001b[0m\n\u001b[1;32m     55\u001b[0m \u001b[38;5;66;03m# check that submodules load as expected\u001b[39;00m\n\u001b[1;32m     56\u001b[0m core \u001b[38;5;241m=\u001b[39m importlib\u001b[38;5;241m.\u001b[39mimport_module(\u001b[38;5;124m'\u001b[39m\u001b[38;5;124mdistutils.core\u001b[39m\u001b[38;5;124m'\u001b[39m)\n\u001b[0;32m---> 57\u001b[0m \u001b[38;5;28;01massert\u001b[39;00m \u001b[38;5;124m'\u001b[39m\u001b[38;5;124m_distutils\u001b[39m\u001b[38;5;124m'\u001b[39m \u001b[38;5;129;01min\u001b[39;00m core\u001b[38;5;241m.\u001b[39m\u001b[38;5;18m__file__\u001b[39m, core\u001b[38;5;241m.\u001b[39m\u001b[38;5;18m__file__\u001b[39m\n\u001b[1;32m     58\u001b[0m \u001b[38;5;28;01massert\u001b[39;00m \u001b[38;5;124m'\u001b[39m\u001b[38;5;124msetuptools._distutils.log\u001b[39m\u001b[38;5;124m'\u001b[39m \u001b[38;5;129;01mnot\u001b[39;00m \u001b[38;5;129;01min\u001b[39;00m sys\u001b[38;5;241m.\u001b[39mmodules\n",
      "\u001b[0;31mAssertionError\u001b[0m: /home/mlops/anaconda3/envs/exp-tracking-env/lib/python3.9/distutils/core.py"
     ]
    }
   ],
   "source": [
    "from sklearn.ensemble import RandomForestRegressor, GradientBoostingRegressor, ExtraTreesRegressor\n",
    "from sklearn.svm import LinearSVR\n",
    "\n",
    "mlflow.sklearn.autolog()\n",
    "\n",
    "for model_class in (RandomForestRegressor, GradientBoostingRegressor, ExtraTreesRegressor, LinearSVR):\n",
    "\n",
    "    with mlflow.start_run():\n",
    "\n",
    "        mlflow.log_param(\"train-data-path\", \"./data/green_tripdata_2021-01.csv\")\n",
    "        mlflow.log_param(\"valid-data-path\", \"./data/green_tripdata_2021-02.csv\")\n",
    "        mlflow.log_artifact(\"models/preprocessor.b\", artifact_path=\"preprocessor\")\n",
    "\n",
    "        mlmodel = model_class()\n",
    "        mlmodel.fit(X_train, y_train)\n",
    "\n",
    "        y_pred = mlmodel.predict(X_val)\n",
    "        rmse = mean_squared_error(y_val, y_pred, squared=False)\n",
    "        mlflow.log_metric(\"rmse\", rmse)\n",
    "        "
   ]
  },
  {
   "cell_type": "code",
   "execution_count": null,
   "id": "6f0813c7",
   "metadata": {},
   "outputs": [],
   "source": []
  },
  {
   "cell_type": "code",
   "execution_count": null,
   "id": "4c489ec5",
   "metadata": {},
   "outputs": [],
   "source": []
  }
 ],
 "metadata": {
  "interpreter": {
   "hash": "0848c9d6c7d415ad6c477ff7ff8e98694d1a4aa96d0deee89244642e6b630036"
  },
  "kernelspec": {
   "display_name": "Python 3 (ipykernel)",
   "language": "python",
   "name": "python3"
  },
  "language_info": {
   "codemirror_mode": {
    "name": "ipython",
    "version": 3
   },
   "file_extension": ".py",
   "mimetype": "text/x-python",
   "name": "python",
   "nbconvert_exporter": "python",
   "pygments_lexer": "ipython3",
   "version": "3.9.19"
  }
 },
 "nbformat": 4,
 "nbformat_minor": 5
}
